{
 "cells": [
  {
   "cell_type": "markdown",
   "metadata": {},
   "source": [
    "# Data Analysis with Python\n",
    "\n",
    "## Outline\n",
    "* Classes\n",
    "* Files\n",
    "* Scripts\n",
    "* String Handling and Processing\n",
    "\n",
    "## Classes\n",
    "Python has the following built-in classes of objects:\n",
    "\n",
    "* int\n",
    "* float\n",
    "* str\n",
    "* list\n",
    "* set\n",
    "* tuple\n",
    "* dictionary\n",
    "\n",
    "Python is an **object-oriented programming language**.\n",
    "\n",
    "While this course will not do an in depth presentation of OOP, it is necessary to understand the basics of objects and classes.\n",
    "\n",
    "A **class** is a template.  It consists of a set of variables and functions.  An **object** is an instance of a class.  Class/object variables are referred to as **attributes** while class/object functions are referred to as **methods**.  Attributes and methods may belong to the object or the class.\n",
    "\n",
    "Consider the following toy example:"
   ]
  },
  {
   "cell_type": "markdown",
   "metadata": {},
   "source": [
    "** Example 1 **"
   ]
  },
  {
   "cell_type": "code",
   "execution_count": 1,
   "metadata": {
    "collapsed": true
   },
   "outputs": [],
   "source": [
    "#PYTHON3\n",
    "class Animal():\n",
    "    '''This is the documentation'''\n",
    "    \n",
    "    animal_list=[]\n",
    "    \n",
    "    def print_animals():\n",
    "        for elem in Animal.animal_list:\n",
    "            print(elem)\n",
    "    \n",
    "    def __init__(self,a_species,a_sound):#constructor\n",
    "        Animal.animal_list.append(a_species)\n",
    "        self.species=a_species\n",
    "        self.sound=a_sound\n",
    "        \n",
    "    def say(self):\n",
    "        print(\"A\",self.species,\"says\",self.sound)      "
   ]
  },
  {
   "cell_type": "code",
   "execution_count": 34,
   "metadata": {
    "collapsed": true
   },
   "outputs": [],
   "source": [
    "# THIS WORKS IN PYTHON2 AND PYTHON3\n",
    "#NOTE THE CLASS METHOD REQUIRES:\n",
    "###   1) the argument \"cls\".  this stands for class\n",
    "###   2) the \"@classmethod\" decorator.  decorators are an advanced topic\n",
    "\n",
    "\n",
    "class Animal():\n",
    "    '''This is the documentation'''\n",
    "    \n",
    "    animal_list=[]\n",
    "    \n",
    "    @classmethod\n",
    "    def print_animals(cls):\n",
    "        for elem in Animal.animal_list:\n",
    "            print(elem)\n",
    "    \n",
    "    def __init__(self,a_species,a_sound):#constructor\n",
    "        Animal.animal_list.append(a_species)\n",
    "        self.species=a_species\n",
    "        self.sound=a_sound\n",
    "        \n",
    "    def say(self):\n",
    "        print(\"A\",self.species,\"says\",self.sound)  "
   ]
  },
  {
   "cell_type": "markdown",
   "metadata": {},
   "source": [
    "* `Animal` is the **class**\n",
    "* `animal_list` is a **class attribute**\n",
    "* `print_animals` is a **class method**\n",
    "* `species` and `sound` are each an **object attribute**\n",
    "* `say` is an **object method**"
   ]
  },
  {
   "cell_type": "code",
   "execution_count": 2,
   "metadata": {
    "collapsed": false
   },
   "outputs": [],
   "source": [
    "tigger=Animal(\"tiger\",\"roar\")#using the constructor\n",
    "teddy=Animal(\"bear\",\"grrr\")"
   ]
  },
  {
   "cell_type": "markdown",
   "metadata": {},
   "source": [
    "* `tigger` and `teddy` are each **objects**.  They are instances of the `Animal` **class**.\n",
    "* The method `Animal()` is known as a **constructor**.  Constructors return an object instance."
   ]
  },
  {
   "cell_type": "code",
   "execution_count": 3,
   "metadata": {
    "collapsed": false
   },
   "outputs": [
    {
     "data": {
      "text/plain": [
       "['tiger', 'bear']"
      ]
     },
     "execution_count": 3,
     "metadata": {},
     "output_type": "execute_result"
    }
   ],
   "source": [
    "Animal.animal_list"
   ]
  },
  {
   "cell_type": "code",
   "execution_count": 4,
   "metadata": {
    "collapsed": false
   },
   "outputs": [
    {
     "name": "stdout",
     "output_type": "stream",
     "text": [
      "tiger\n",
      "bear\n"
     ]
    }
   ],
   "source": [
    "Animal.print_animals() #NO in py2 without cls and decorator"
   ]
  },
  {
   "cell_type": "code",
   "execution_count": 5,
   "metadata": {
    "collapsed": false
   },
   "outputs": [
    {
     "ename": "TypeError",
     "evalue": "print_animals() takes 0 positional arguments but 1 was given",
     "output_type": "error",
     "traceback": [
      "\u001b[0;31m---------------------------------------------------------------------------\u001b[0m",
      "\u001b[0;31mTypeError\u001b[0m                                 Traceback (most recent call last)",
      "\u001b[0;32m<ipython-input-5-6fd6c56d2cf5>\u001b[0m in \u001b[0;36m<module>\u001b[0;34m()\u001b[0m\n\u001b[0;32m----> 1\u001b[0;31m \u001b[0mtigger\u001b[0m\u001b[0;34m.\u001b[0m\u001b[0mprint_animals\u001b[0m\u001b[0;34m(\u001b[0m\u001b[0;34m)\u001b[0m\u001b[0;34m\u001b[0m\u001b[0m\n\u001b[0m",
      "\u001b[0;31mTypeError\u001b[0m: print_animals() takes 0 positional arguments but 1 was given"
     ]
    }
   ],
   "source": [
    "tigger.print_animals()"
   ]
  },
  {
   "cell_type": "code",
   "execution_count": 6,
   "metadata": {
    "collapsed": false
   },
   "outputs": [
    {
     "data": {
      "text/plain": [
       "'bear'"
      ]
     },
     "execution_count": 6,
     "metadata": {},
     "output_type": "execute_result"
    }
   ],
   "source": [
    "teddy.species"
   ]
  },
  {
   "cell_type": "code",
   "execution_count": 7,
   "metadata": {
    "collapsed": false
   },
   "outputs": [
    {
     "name": "stdout",
     "output_type": "stream",
     "text": [
      "A tiger says roar\n"
     ]
    }
   ],
   "source": [
    "tigger.say()"
   ]
  },
  {
   "cell_type": "code",
   "execution_count": 8,
   "metadata": {
    "collapsed": false
   },
   "outputs": [
    {
     "name": "stdout",
     "output_type": "stream",
     "text": [
      "<class '__main__.Animal'>\n"
     ]
    }
   ],
   "source": [
    "print(type(tigger))"
   ]
  },
  {
   "cell_type": "code",
   "execution_count": 9,
   "metadata": {
    "collapsed": false
   },
   "outputs": [
    {
     "data": {
      "text/plain": [
       "True"
      ]
     },
     "execution_count": 9,
     "metadata": {},
     "output_type": "execute_result"
    }
   ],
   "source": [
    "isinstance(tigger,Animal)"
   ]
  },
  {
   "cell_type": "code",
   "execution_count": 10,
   "metadata": {
    "collapsed": false
   },
   "outputs": [
    {
     "data": {
      "text/plain": [
       "False"
      ]
     },
     "execution_count": 10,
     "metadata": {},
     "output_type": "execute_result"
    }
   ],
   "source": [
    "isinstance(tigger,int)"
   ]
  },
  {
   "cell_type": "code",
   "execution_count": 11,
   "metadata": {
    "collapsed": false
   },
   "outputs": [
    {
     "data": {
      "text/plain": [
       "'This is the documentation'"
      ]
     },
     "execution_count": 11,
     "metadata": {},
     "output_type": "execute_result"
    }
   ],
   "source": [
    "tigger.__doc__"
   ]
  },
  {
   "cell_type": "code",
   "execution_count": 12,
   "metadata": {
    "collapsed": false
   },
   "outputs": [
    {
     "data": {
      "text/plain": [
       "<__main__.Animal at 0x10fb6b588>"
      ]
     },
     "execution_count": 12,
     "metadata": {},
     "output_type": "execute_result"
    }
   ],
   "source": [
    "tigger"
   ]
  },
  {
   "cell_type": "code",
   "execution_count": 13,
   "metadata": {
    "collapsed": false
   },
   "outputs": [
    {
     "name": "stdout",
     "output_type": "stream",
     "text": [
      "A tiger says purrrrr\n"
     ]
    }
   ],
   "source": [
    "tigger2=tigger\n",
    "tigger2.sound='purrrrr'\n",
    "tigger.say()"
   ]
  },
  {
   "cell_type": "markdown",
   "metadata": {},
   "source": [
    "** Exercise 1**\n",
    "\n",
    "Rewrite the Animal class to include a method named `intro` which takes another Animal object as its argument.  This method will print a formal salutation, the object animal introducing themselves by species and using the other animals species.  If the animals are the same species have the salutation include the sound.\n",
    "\n",
    "```\n",
    "def intro(self,other):\n",
    "    ...\n",
    "\n",
    "bear1.intro(bear2) \n",
    "----> \"Hey bear, I'm a bear too.  Dude...grrr.\"\n",
    "\n",
    "bear1.intro(cat1) \n",
    "----> \"Whazzup cat, I'm a bear.\"\n",
    "```\n"
   ]
  },
  {
   "cell_type": "code",
   "execution_count": 52,
   "metadata": {
    "collapsed": false
   },
   "outputs": [],
   "source": [
    "#Your code here\n",
    "class Animal():\n",
    "    '''This is the documentation'''\n",
    "    \n",
    "    animal_list=[]\n",
    "    \n",
    "    @classmethod\n",
    "    def print_animals(cls):\n",
    "        for elem in Animal.animal_list:\n",
    "            print(elem)\n",
    "    \n",
    "    def __init__(self,a_species,a_sound):#constructor\n",
    "        Animal.animal_list.append(a_species)\n",
    "        self.species=a_species\n",
    "        self.sound=a_sound\n",
    "        \n",
    "    def say(self):\n",
    "        print(\"A\",self.species,\"says\",self.sound)  \n",
    "        \n",
    "    def intro(self, other):\n",
    "        if self.species == other.species:\n",
    "            return(\"Hey, \"+other.species+\", I'm a \"+self.species+\" too. Dude...\"+self.sound)\n",
    "        else:\n",
    "            return(\"Whazzup %s, I'm a %s\" %(other.species, self.species))\n",
    "        \n"
   ]
  },
  {
   "cell_type": "code",
   "execution_count": 53,
   "metadata": {
    "collapsed": false
   },
   "outputs": [
    {
     "data": {
      "text/plain": [
       "['tiger', 'bear']"
      ]
     },
     "execution_count": 53,
     "metadata": {},
     "output_type": "execute_result"
    }
   ],
   "source": [
    "tigger=Animal(\"tiger\",\"roar\")#using the constructor\n",
    "teddy=Animal(\"bear\",\"grrr\")\n",
    "Animal.animal_list"
   ]
  },
  {
   "cell_type": "code",
   "execution_count": 54,
   "metadata": {
    "collapsed": false
   },
   "outputs": [
    {
     "data": {
      "text/plain": [
       "\"Hey, tiger, I'm a tiger too. Dude...roar\""
      ]
     },
     "execution_count": 54,
     "metadata": {},
     "output_type": "execute_result"
    }
   ],
   "source": [
    "tigger.intro(tigger)"
   ]
  },
  {
   "cell_type": "code",
   "execution_count": 57,
   "metadata": {
    "collapsed": false
   },
   "outputs": [
    {
     "name": "stdout",
     "output_type": "stream",
     "text": [
      "Whazzup bear, I'm a tiger\n",
      "Hey, bear, I'm a bear too. Dude...grrr\n"
     ]
    }
   ],
   "source": [
    "print(tigger.intro(teddy))\n",
    "print(teddy.intro(teddy))"
   ]
  },
  {
   "cell_type": "markdown",
   "metadata": {},
   "source": [
    "** Example 2 **\n",
    "\n",
    "Create an instance of a list:"
   ]
  },
  {
   "cell_type": "code",
   "execution_count": 58,
   "metadata": {
    "collapsed": true
   },
   "outputs": [],
   "source": [
    "li = [1, 2, 3, 4]"
   ]
  },
  {
   "cell_type": "markdown",
   "metadata": {},
   "source": [
    "Checking its type:"
   ]
  },
  {
   "cell_type": "code",
   "execution_count": 59,
   "metadata": {
    "collapsed": false
   },
   "outputs": [
    {
     "data": {
      "text/plain": [
       "list"
      ]
     },
     "execution_count": 59,
     "metadata": {},
     "output_type": "execute_result"
    }
   ],
   "source": [
    "type(li)"
   ]
  },
  {
   "cell_type": "code",
   "execution_count": 60,
   "metadata": {
    "collapsed": false
   },
   "outputs": [
    {
     "data": {
      "text/plain": [
       "True"
      ]
     },
     "execution_count": 60,
     "metadata": {},
     "output_type": "execute_result"
    }
   ],
   "source": [
    "isinstance(li,list)"
   ]
  },
  {
   "cell_type": "markdown",
   "metadata": {},
   "source": [
    "Checking its attributes"
   ]
  },
  {
   "cell_type": "code",
   "execution_count": 61,
   "metadata": {
    "collapsed": false
   },
   "outputs": [
    {
     "name": "stdout",
     "output_type": "stream",
     "text": [
      "list() -> new empty list\n",
      "list(iterable) -> new list initialized from iterable's items\n"
     ]
    }
   ],
   "source": [
    "print(li.__doc__)"
   ]
  },
  {
   "cell_type": "markdown",
   "metadata": {},
   "source": [
    "Check its behavior when passed to the function `len()`"
   ]
  },
  {
   "cell_type": "code",
   "execution_count": 63,
   "metadata": {
    "collapsed": false
   },
   "outputs": [
    {
     "name": "stdout",
     "output_type": "stream",
     "text": [
      "4\n",
      "4\n"
     ]
    }
   ],
   "source": [
    "print(li.__len__())\n",
    "print(len(li))"
   ]
  },
  {
   "cell_type": "markdown",
   "metadata": {},
   "source": [
    "Check the number of times the value 1 appears in the list"
   ]
  },
  {
   "cell_type": "code",
   "execution_count": 64,
   "metadata": {
    "collapsed": false
   },
   "outputs": [
    {
     "name": "stdout",
     "output_type": "stream",
     "text": [
      "1\n"
     ]
    }
   ],
   "source": [
    "print (li.count(1) ) "
   ]
  },
  {
   "cell_type": "code",
   "execution_count": 65,
   "metadata": {
    "collapsed": false
   },
   "outputs": [
    {
     "data": {
      "text/plain": [
       "[1, 2, 3, 4, 3]"
      ]
     },
     "execution_count": 65,
     "metadata": {},
     "output_type": "execute_result"
    }
   ],
   "source": [
    "li.append(3)# object method\n",
    "li"
   ]
  },
  {
   "cell_type": "code",
   "execution_count": 66,
   "metadata": {
    "collapsed": false
   },
   "outputs": [
    {
     "data": {
      "text/plain": [
       "[1, 2, 3, 4, 3, 5]"
      ]
     },
     "execution_count": 66,
     "metadata": {},
     "output_type": "execute_result"
    }
   ],
   "source": [
    "list.append(li,5) #class method\n",
    "li"
   ]
  },
  {
   "cell_type": "code",
   "execution_count": 69,
   "metadata": {
    "collapsed": false
   },
   "outputs": [
    {
     "name": "stdout",
     "output_type": "stream",
     "text": [
      "Help on method_descriptor:\n",
      "\n",
      "find(...)\n",
      "    S.find(sub[, start[, end]]) -> int\n",
      "    \n",
      "    Return the lowest index in S where substring sub is found,\n",
      "    such that sub is contained within S[start:end].  Optional\n",
      "    arguments start and end are interpreted as in slice notation.\n",
      "    \n",
      "    Return -1 on failure.\n",
      "\n"
     ]
    }
   ],
   "source": [
    "help(str.find)"
   ]
  },
  {
   "cell_type": "markdown",
   "metadata": {},
   "source": [
    "**Example 3**\n",
    "\n",
    "### Inheritance\n",
    "\n",
    "* Classes can inherit attributes and methods from other classes, in this case `Pet` **inherits** from the `Animal` class.\n",
    "* `Pet` is said to be a subclass of `Animal`, `Animal` is a superclass of `Pet`.\n",
    "\n",
    "\n",
    "The class declaration for a subclass uses the superclass as an argument while the constructor for the subclass passes parameters to the superclass constructor, as follows: "
   ]
  },
  {
   "cell_type": "code",
   "execution_count": 70,
   "metadata": {
    "collapsed": false
   },
   "outputs": [],
   "source": [
    "class Pet(Animal): \n",
    "    \n",
    "    def __init__(self, species, sound, name):\n",
    "        #super().__init__(species,sound)\n",
    "        Animal.__init__(self,species,sound) \n",
    "        self.name = name\n",
    "              "
   ]
  },
  {
   "cell_type": "code",
   "execution_count": 71,
   "metadata": {
    "collapsed": false
   },
   "outputs": [],
   "source": [
    "pup=Pet('canine','woof','Spot')"
   ]
  },
  {
   "cell_type": "code",
   "execution_count": 72,
   "metadata": {
    "collapsed": false
   },
   "outputs": [
    {
     "name": "stdout",
     "output_type": "stream",
     "text": [
      "A canine says woof\n"
     ]
    }
   ],
   "source": [
    "pup.say()"
   ]
  },
  {
   "cell_type": "code",
   "execution_count": 73,
   "metadata": {
    "collapsed": false
   },
   "outputs": [
    {
     "data": {
      "text/plain": [
       "'Spot'"
      ]
     },
     "execution_count": 73,
     "metadata": {},
     "output_type": "execute_result"
    }
   ],
   "source": [
    "pup.name"
   ]
  },
  {
   "cell_type": "markdown",
   "metadata": {},
   "source": [
    "The subclass can overwrite inherited attributes and methods of the superclass."
   ]
  },
  {
   "cell_type": "code",
   "execution_count": 74,
   "metadata": {
    "collapsed": false
   },
   "outputs": [],
   "source": [
    "class Pet(Animal): \n",
    "    \n",
    "    def __init__(self, species, sound, name):\n",
    "        #super().__init__(species,sound)\n",
    "        Animal.__init__(self,species,sound)\n",
    "        self.name = name\n",
    "        \n",
    "    def say(self):\n",
    "        print(self.name,\"the\",self.species,\"says\",self.sound)"
   ]
  },
  {
   "cell_type": "code",
   "execution_count": 75,
   "metadata": {
    "collapsed": false
   },
   "outputs": [
    {
     "name": "stdout",
     "output_type": "stream",
     "text": [
      "Tom the cat says meow\n"
     ]
    }
   ],
   "source": [
    "kit=Pet('cat','meow','Tom')\n",
    "kit.say() #use object method"
   ]
  },
  {
   "cell_type": "code",
   "execution_count": 76,
   "metadata": {
    "collapsed": false
   },
   "outputs": [
    {
     "name": "stdout",
     "output_type": "stream",
     "text": [
      "Tom the cat says meow\n"
     ]
    }
   ],
   "source": [
    "Pet.say(kit) #use the associated subclass method"
   ]
  },
  {
   "cell_type": "code",
   "execution_count": 77,
   "metadata": {
    "collapsed": false
   },
   "outputs": [
    {
     "name": "stdout",
     "output_type": "stream",
     "text": [
      "A cat says meow\n"
     ]
    }
   ],
   "source": [
    "Animal.say(kit) #use the associated superclass method"
   ]
  },
  {
   "cell_type": "markdown",
   "metadata": {},
   "source": [
    "`kit` is an instance of the subclass `Pet` and the superclass "
   ]
  },
  {
   "cell_type": "code",
   "execution_count": 78,
   "metadata": {
    "collapsed": false
   },
   "outputs": [
    {
     "data": {
      "text/plain": [
       "True"
      ]
     },
     "execution_count": 78,
     "metadata": {},
     "output_type": "execute_result"
    }
   ],
   "source": [
    "isinstance(kit,Animal)"
   ]
  },
  {
   "cell_type": "code",
   "execution_count": 79,
   "metadata": {
    "collapsed": false
   },
   "outputs": [
    {
     "data": {
      "text/plain": [
       "True"
      ]
     },
     "execution_count": 79,
     "metadata": {},
     "output_type": "execute_result"
    }
   ],
   "source": [
    "isinstance(kit,Pet)"
   ]
  },
  {
   "cell_type": "code",
   "execution_count": 80,
   "metadata": {
    "collapsed": false
   },
   "outputs": [
    {
     "data": {
      "text/plain": [
       "False"
      ]
     },
     "execution_count": 80,
     "metadata": {},
     "output_type": "execute_result"
    }
   ],
   "source": [
    "isinstance(tigger,Pet)"
   ]
  },
  {
   "cell_type": "markdown",
   "metadata": {},
   "source": [
    "Consider what happens when the object itself is printed, as follows:"
   ]
  },
  {
   "cell_type": "code",
   "execution_count": 81,
   "metadata": {
    "collapsed": false
   },
   "outputs": [
    {
     "name": "stdout",
     "output_type": "stream",
     "text": [
      "<__main__.Animal object at 0x1112002b0>\n"
     ]
    }
   ],
   "source": [
    "print(tigger)"
   ]
  },
  {
   "cell_type": "code",
   "execution_count": 82,
   "metadata": {
    "collapsed": false
   },
   "outputs": [
    {
     "data": {
      "text/plain": [
       "<__main__.Animal at 0x1112002b0>"
      ]
     },
     "execution_count": 82,
     "metadata": {},
     "output_type": "execute_result"
    }
   ],
   "source": [
    "tigger"
   ]
  },
  {
   "cell_type": "code",
   "execution_count": 83,
   "metadata": {
    "collapsed": false
   },
   "outputs": [
    {
     "data": {
      "text/plain": [
       "'<__main__.Animal object at 0x1112002b0>'"
      ]
     },
     "execution_count": 83,
     "metadata": {},
     "output_type": "execute_result"
    }
   ],
   "source": [
    "str(tigger)"
   ]
  },
  {
   "cell_type": "markdown",
   "metadata": {
    "collapsed": false
   },
   "source": [
    "The behavior of an object in the `str` or `print` function can be changed using the `__str__` method."
   ]
  },
  {
   "cell_type": "code",
   "execution_count": 84,
   "metadata": {
    "collapsed": false
   },
   "outputs": [],
   "source": [
    "class Animal():\n",
    "    '''This is the documentation'''\n",
    "    \n",
    "    animal_list=[]\n",
    "    @classmethod\n",
    "    def print_animals(cls):\n",
    "        for elem in Animal.animal_list:\n",
    "            print(elem)\n",
    "    \n",
    "    def __init__(self,a_species,a_sound):\n",
    "        Animal.animal_list.append(a_species)\n",
    "        self.species=a_species\n",
    "        self.sound=a_sound\n",
    "        \n",
    "    def say(self):\n",
    "        print(\"A\",self.species,\"says\",self.sound)  \n",
    "        \n",
    "    def __str__(self):\n",
    "        return \"This %s is one of %i animals.\" %(self.species,len(Animal.animal_list))"
   ]
  },
  {
   "cell_type": "code",
   "execution_count": 85,
   "metadata": {
    "collapsed": false
   },
   "outputs": [
    {
     "name": "stdout",
     "output_type": "stream",
     "text": [
      "This tiger is one of 2 animals.\n"
     ]
    }
   ],
   "source": [
    "tigger=Animal(\"tiger\",\"roar\")\n",
    "teddy=Animal(\"bear\",\"grrr\")\n",
    "print(tigger)"
   ]
  },
  {
   "cell_type": "code",
   "execution_count": 86,
   "metadata": {
    "collapsed": false
   },
   "outputs": [
    {
     "data": {
      "text/plain": [
       "<__main__.Animal at 0x11122a278>"
      ]
     },
     "execution_count": 86,
     "metadata": {},
     "output_type": "execute_result"
    }
   ],
   "source": [
    "tigger"
   ]
  },
  {
   "cell_type": "code",
   "execution_count": 87,
   "metadata": {
    "collapsed": false
   },
   "outputs": [
    {
     "data": {
      "text/plain": [
       "'This tiger is one of 2 animals.'"
      ]
     },
     "execution_count": 87,
     "metadata": {},
     "output_type": "execute_result"
    }
   ],
   "source": [
    "str(tigger)"
   ]
  },
  {
   "cell_type": "code",
   "execution_count": 88,
   "metadata": {
    "collapsed": true
   },
   "outputs": [],
   "source": [
    "class Pet(Animal): \n",
    "    \n",
    "    def __init__(self, species, sound, name):\n",
    "        Animal.__init__(self,species,sound)\n",
    "        self.name = name\n",
    "        \n",
    "    def say(self):\n",
    "        print(self.name,\"the\",self.species,\"says\",self.sound)"
   ]
  },
  {
   "cell_type": "code",
   "execution_count": 90,
   "metadata": {
    "collapsed": false
   },
   "outputs": [
    {
     "name": "stdout",
     "output_type": "stream",
     "text": [
      "This cat is one of 4 animals.\n"
     ]
    },
    {
     "data": {
      "text/plain": [
       "'This cat is one of 4 animals.'"
      ]
     },
     "execution_count": 90,
     "metadata": {},
     "output_type": "execute_result"
    }
   ],
   "source": [
    "kit=Pet('cat','meow','Tom')\n",
    "print(kit)\n",
    "str(kit)"
   ]
  },
  {
   "cell_type": "markdown",
   "metadata": {
    "collapsed": false
   },
   "source": [
    "** Exercise 2**\n",
    "\n",
    "* Create a `Dog` class which is a subclass of `Pet`\n",
    "* Make it have a `species` value \"canine\" and sound \"woof\"\n",
    "* Give it an additional object attribute `age`\n",
    "* Give it an additional object method `dog_age` which returns it's age times seven\n",
    "* Overwrite the `__str__` method so it returns a string stating the name and that it is an old dog, if it is over 10, and a puppy if it is under 3.\n",
    "* Create an instance of `Dog` and test its methods.\n"
   ]
  },
  {
   "cell_type": "code",
   "execution_count": 112,
   "metadata": {
    "collapsed": false
   },
   "outputs": [],
   "source": [
    "# your code here     \n",
    "class Dog(Pet):\n",
    "    def __init__(self, name, age):\n",
    "        Pet.__init__(self, \"canine\", \"woof\", name)\n",
    "        self.age = age\n",
    "        \n",
    "    def dog_age(self):\n",
    "        return self.age*7\n",
    "    \n",
    "    def __str__(self):\n",
    "        if self.age >= 10:\n",
    "            return \"My name is %s, I'm an old dog\" %self.name\n",
    "        elif self.age <= 3:\n",
    "            return \"My name is %s, I'm a puppy\" %self.name\n",
    "        else:\n",
    "            return \"My name is %s\" %self.name\n",
    "\n",
    "            "
   ]
  },
  {
   "cell_type": "code",
   "execution_count": 113,
   "metadata": {
    "collapsed": false
   },
   "outputs": [],
   "source": [
    "dog1=Dog(\"Bea\",15)\n",
    "dog2=Dog(\"Pika\",7)\n",
    "dog3=Dog(\"Fido\",1)"
   ]
  },
  {
   "cell_type": "code",
   "execution_count": 114,
   "metadata": {
    "collapsed": false
   },
   "outputs": [
    {
     "name": "stdout",
     "output_type": "stream",
     "text": [
      "My name is Bea, I'm an old dog\n",
      "My name is Pika\n",
      "My name is Fido, I'm a puppy\n"
     ]
    }
   ],
   "source": [
    "print(dog1)\n",
    "print(dog2)\n",
    "print(dog3)"
   ]
  },
  {
   "cell_type": "code",
   "execution_count": 115,
   "metadata": {
    "collapsed": false
   },
   "outputs": [
    {
     "name": "stdout",
     "output_type": "stream",
     "text": [
      "105\n",
      "49\n",
      "7\n"
     ]
    }
   ],
   "source": [
    "print(dog1.dog_age())\n",
    "print(dog2.dog_age())\n",
    "print(dog3.dog_age())"
   ]
  },
  {
   "cell_type": "code",
   "execution_count": 117,
   "metadata": {
    "collapsed": false
   },
   "outputs": [
    {
     "data": {
      "text/plain": [
       "'B'"
      ]
     },
     "execution_count": 117,
     "metadata": {},
     "output_type": "execute_result"
    }
   ],
   "source": [
    "dog1.nickname = \"B\" #creating a new attribute -only for that instance-\n",
    "dog1.nickname"
   ]
  },
  {
   "cell_type": "code",
   "execution_count": 124,
   "metadata": {
    "collapsed": false
   },
   "outputs": [
    {
     "data": {
      "text/plain": [
       "(__main__.Pet,)"
      ]
     },
     "execution_count": 124,
     "metadata": {},
     "output_type": "execute_result"
    }
   ],
   "source": [
    "Dog.__bases__"
   ]
  },
  {
   "cell_type": "markdown",
   "metadata": {},
   "source": [
    "## String Class and Objects\n",
    "### Creating strings\n",
    "\n",
    "Here are examples of strings.  Note the following:\n",
    "\n",
    "* Use of single, double and triple quotation marks.\n",
    "* Use of \\n newline character\n",
    "* Use of \\ escape character\n",
    "* Use of the `r` prefix, indicating \"raw\" characters"
   ]
  },
  {
   "cell_type": "code",
   "execution_count": 125,
   "metadata": {
    "collapsed": false
   },
   "outputs": [
    {
     "data": {
      "text/plain": [
       "str"
      ]
     },
     "execution_count": 125,
     "metadata": {},
     "output_type": "execute_result"
    }
   ],
   "source": [
    "type('hi')"
   ]
  },
  {
   "cell_type": "code",
   "execution_count": 31,
   "metadata": {
    "collapsed": false
   },
   "outputs": [
    {
     "name": "stdout",
     "output_type": "stream",
     "text": [
      "I'm Jack.\n",
      "Jack says \"My name is Jack\".\n",
      "Jack says \"Hi, I'm  Jack\"\n",
      "Jack says \"Hi, I'm  Jack\"\n",
      "Jack says \"Hi, I'm  Jack\"\n",
      "Jack says 'Hi, I'm  Jack'\n",
      "Jack says:\n",
      "    \"Hi, I'm  Jack\"\n",
      "Hi, I do not want a \n",
      "ew line.\n",
      "Hi, I do not want a \\n new line.\n"
     ]
    }
   ],
   "source": [
    "print (\"I'm Jack.\")\n",
    "print ('Jack says \"My name is Jack\".')\n",
    "print (\"Jack says \\\"Hi, I'm  Jack\\\"\")\n",
    "print ('Jack says \"Hi, I\\'m  Jack\"')\n",
    "print ('''Jack says \"Hi, I'm  Jack\"''')\n",
    "print (\"\"\"Jack says 'Hi, I'm  Jack'\"\"\")\n",
    "print ('''Jack says:\n",
    "    \"Hi, I'm  Jack\"''')\n",
    "print ('Hi, I do not want a \\new line.')\n",
    "print (r'Hi, I do not want a \\n new line.')"
   ]
  },
  {
   "cell_type": "markdown",
   "metadata": {},
   "source": [
    "## Basic String Manipulations\n",
    "\n",
    "Case conversion is done as follows:"
   ]
  },
  {
   "cell_type": "code",
   "execution_count": 127,
   "metadata": {
    "collapsed": false,
    "scrolled": true
   },
   "outputs": [
    {
     "data": {
      "text/plain": [
       "'abcd'"
      ]
     },
     "execution_count": 127,
     "metadata": {},
     "output_type": "execute_result"
    }
   ],
   "source": [
    "'ABcd'.lower() #object method"
   ]
  },
  {
   "cell_type": "code",
   "execution_count": 128,
   "metadata": {
    "collapsed": false
   },
   "outputs": [
    {
     "data": {
      "text/plain": [
       "'abcd'"
      ]
     },
     "execution_count": 128,
     "metadata": {},
     "output_type": "execute_result"
    }
   ],
   "source": [
    "str.lower('ABcd') #class method"
   ]
  },
  {
   "cell_type": "code",
   "execution_count": 129,
   "metadata": {
    "collapsed": false
   },
   "outputs": [
    {
     "data": {
      "text/plain": [
       "'ABCD'"
      ]
     },
     "execution_count": 129,
     "metadata": {},
     "output_type": "execute_result"
    }
   ],
   "source": [
    "'ABcd'.upper() # object method"
   ]
  },
  {
   "cell_type": "code",
   "execution_count": 130,
   "metadata": {
    "collapsed": false
   },
   "outputs": [
    {
     "data": {
      "text/plain": [
       "'ABCD'"
      ]
     },
     "execution_count": 130,
     "metadata": {},
     "output_type": "execute_result"
    }
   ],
   "source": [
    "str.upper('ABcd') #class method"
   ]
  },
  {
   "cell_type": "code",
   "execution_count": 131,
   "metadata": {
    "collapsed": false
   },
   "outputs": [
    {
     "data": {
      "text/plain": [
       "'abCD'"
      ]
     },
     "execution_count": 131,
     "metadata": {},
     "output_type": "execute_result"
    }
   ],
   "source": [
    "'ABcd'.swapcase() #object method"
   ]
  },
  {
   "cell_type": "code",
   "execution_count": 132,
   "metadata": {
    "collapsed": false
   },
   "outputs": [
    {
     "data": {
      "text/plain": [
       "'abCD'"
      ]
     },
     "execution_count": 132,
     "metadata": {},
     "output_type": "execute_result"
    }
   ],
   "source": [
    "str.swapcase('ABcd') #class method"
   ]
  },
  {
   "cell_type": "code",
   "execution_count": 133,
   "metadata": {
    "collapsed": false
   },
   "outputs": [
    {
     "data": {
      "text/plain": [
       "'Acd Acd'"
      ]
     },
     "execution_count": 133,
     "metadata": {},
     "output_type": "execute_result"
    }
   ],
   "source": [
    "'acD acd'.title() #object method"
   ]
  },
  {
   "cell_type": "code",
   "execution_count": 134,
   "metadata": {
    "collapsed": false
   },
   "outputs": [
    {
     "data": {
      "text/plain": [
       "'Acd Acd'"
      ]
     },
     "execution_count": 134,
     "metadata": {},
     "output_type": "execute_result"
    }
   ],
   "source": [
    "str.title('acD acd') #class method"
   ]
  },
  {
   "cell_type": "markdown",
   "metadata": {},
   "source": [
    "Additionally, string objects have the following object methods:\n",
    "\n",
    "* split\n",
    "* replace\n",
    "* count\n",
    "* join\n",
    "* strip"
   ]
  },
  {
   "cell_type": "code",
   "execution_count": 135,
   "metadata": {
    "collapsed": false
   },
   "outputs": [
    {
     "data": {
      "text/plain": [
       "['a', 'b', 'c', 'd']"
      ]
     },
     "execution_count": 135,
     "metadata": {},
     "output_type": "execute_result"
    }
   ],
   "source": [
    "'a b c d'.split(' ') # split by ' '"
   ]
  },
  {
   "cell_type": "code",
   "execution_count": 190,
   "metadata": {
    "collapsed": false
   },
   "outputs": [
    {
     "data": {
      "text/plain": [
       "['a', 'b', 'c', 'd']"
      ]
     },
     "execution_count": 190,
     "metadata": {},
     "output_type": "execute_result"
    }
   ],
   "source": [
    "'a b c d'.split() # split by ' ' default"
   ]
  },
  {
   "cell_type": "code",
   "execution_count": 137,
   "metadata": {
    "collapsed": false
   },
   "outputs": [
    {
     "data": {
      "text/plain": [
       "'a>b>c>d'"
      ]
     },
     "execution_count": 137,
     "metadata": {},
     "output_type": "execute_result"
    }
   ],
   "source": [
    "'a b c d'.replace(' ', '>') # replace ' ' with '>'"
   ]
  },
  {
   "cell_type": "code",
   "execution_count": 138,
   "metadata": {
    "collapsed": false
   },
   "outputs": [
    {
     "data": {
      "text/plain": [
       "3"
      ]
     },
     "execution_count": 138,
     "metadata": {},
     "output_type": "execute_result"
    }
   ],
   "source": [
    "'a b c d'.count(' ') # count the number of ' ' appears"
   ]
  },
  {
   "cell_type": "code",
   "execution_count": 139,
   "metadata": {
    "collapsed": false
   },
   "outputs": [
    {
     "data": {
      "text/plain": [
       "'a b c'"
      ]
     },
     "execution_count": 139,
     "metadata": {},
     "output_type": "execute_result"
    }
   ],
   "source": [
    "' '.join(['a', 'b', 'c'])"
   ]
  },
  {
   "cell_type": "code",
   "execution_count": 140,
   "metadata": {
    "collapsed": false
   },
   "outputs": [
    {
     "data": {
      "text/plain": [
       "'abc'"
      ]
     },
     "execution_count": 140,
     "metadata": {},
     "output_type": "execute_result"
    }
   ],
   "source": [
    "''.join(['a', 'b', 'c'])"
   ]
  },
  {
   "cell_type": "code",
   "execution_count": 141,
   "metadata": {
    "collapsed": false
   },
   "outputs": [
    {
     "data": {
      "text/plain": [
       "'a/b/c'"
      ]
     },
     "execution_count": 141,
     "metadata": {},
     "output_type": "execute_result"
    }
   ],
   "source": [
    "'/'.join(['a', 'b', 'c'])"
   ]
  },
  {
   "cell_type": "code",
   "execution_count": 142,
   "metadata": {
    "collapsed": false
   },
   "outputs": [
    {
     "data": {
      "text/plain": [
       "'aXbXc'"
      ]
     },
     "execution_count": 142,
     "metadata": {},
     "output_type": "execute_result"
    }
   ],
   "source": [
    "str.join('X',['a', 'b', 'c'])"
   ]
  },
  {
   "cell_type": "code",
   "execution_count": 143,
   "metadata": {
    "collapsed": false
   },
   "outputs": [
    {
     "data": {
      "text/plain": [
       "'aXbXc'"
      ]
     },
     "execution_count": 143,
     "metadata": {},
     "output_type": "execute_result"
    }
   ],
   "source": [
    "'X'.join(['a', 'b', 'c'])"
   ]
  },
  {
   "cell_type": "code",
   "execution_count": 144,
   "metadata": {
    "collapsed": false
   },
   "outputs": [
    {
     "data": {
      "text/plain": [
       "'hey hey   yo .'"
      ]
     },
     "execution_count": 144,
     "metadata": {},
     "output_type": "execute_result"
    }
   ],
   "source": [
    "'\\n hey hey   yo .  '.strip()"
   ]
  },
  {
   "cell_type": "code",
   "execution_count": 147,
   "metadata": {
    "collapsed": false
   },
   "outputs": [
    {
     "name": "stdout",
     "output_type": "stream",
     "text": [
      "Help on built-in function strip:\n",
      "\n",
      "strip(...) method of builtins.str instance\n",
      "    S.strip([chars]) -> str\n",
      "    \n",
      "    Return a copy of the string S with leading and trailing\n",
      "    whitespace removed.\n",
      "    If chars is given and not None, remove characters in chars instead.\n",
      "\n"
     ]
    }
   ],
   "source": [
    "help(''.strip)"
   ]
  },
  {
   "cell_type": "markdown",
   "metadata": {},
   "source": [
    "Extending the string class can be done as follows.  Since `str` is a builtin class there is no `__init__` object constructor written."
   ]
  },
  {
   "cell_type": "code",
   "execution_count": 148,
   "metadata": {
    "collapsed": false
   },
   "outputs": [],
   "source": [
    "class mystr(str):\n",
    "            \n",
    "    def funk(self):\n",
    "        return \"funky \"+ self.upper() +\"!\"\n",
    "        "
   ]
  },
  {
   "cell_type": "markdown",
   "metadata": {},
   "source": [
    "The `funk` method is added to the set of `mystr` methods.  All of the `str` methods are also available."
   ]
  },
  {
   "cell_type": "code",
   "execution_count": 149,
   "metadata": {
    "collapsed": false
   },
   "outputs": [
    {
     "name": "stdout",
     "output_type": "stream",
     "text": [
      "oompa doompah\n",
      "funky OOMPA DOOMPAH!\n",
      "oompa doompah\n",
      "oompa doompah\n",
      "funky OOMPA DOOMPAH!\n"
     ]
    }
   ],
   "source": [
    "s=mystr('oompa DOOMpAh')\n",
    "print(s.lower())\n",
    "print(s.funk())\n",
    "print(mystr.lower(s))\n",
    "print(str.lower(s))\n",
    "print(mystr.funk(s))"
   ]
  },
  {
   "cell_type": "markdown",
   "metadata": {},
   "source": [
    "**Exercise 3**\n",
    "Rewrite the `mystr` class to include the following methods.  \n",
    "\n",
    "* `replace_all()`  This method should function like `replace` except take a list of strings and list of replacements as parameters.\n",
    "\n",
    "```\n",
    "mystr.replace_all('r&d vs r&b',['&','vs'],[' and ','versus'])\n",
    "----> 'r and d versus r and b'\n",
    "\n",
    "```\n",
    "\n",
    "* `split_all()`  This method should function like `split` except take a list of seperators as a parameter.\n",
    "\n",
    "```\n",
    "mystr.split_all('r&d vs r&b',['&',' vs '])\n",
    "----> ['r','d','r','b']\n",
    "\n",
    "```"
   ]
  },
  {
   "cell_type": "code",
   "execution_count": 195,
   "metadata": {
    "collapsed": false
   },
   "outputs": [],
   "source": [
    "# Your code here\n",
    "\n",
    "class mystr(str):\n",
    "    \n",
    "    def replace_all(self, char_to_replace, replacements):\n",
    "        for i in range(len(char_to_replace)):\n",
    "            self = self.replace(char_to_replace[i], replacements[i%len(replacements)])\n",
    "        return self\n",
    "    \n",
    "    def split_all(self, char_to_split):\n",
    "        self = self.replace_all(char_to_split,char_to_split[0])\n",
    "        return self.split(char_to_split[0])    \n",
    "        \n"
   ]
  },
  {
   "cell_type": "code",
   "execution_count": 196,
   "metadata": {
    "collapsed": false
   },
   "outputs": [
    {
     "name": "stdout",
     "output_type": "stream",
     "text": [
      "r and d  and  r and b\n",
      "r&d vs r&b\n",
      "['r', 'd', 'r', 'b']\n",
      "r&d vs r&b\n"
     ]
    }
   ],
   "source": [
    "S=mystr('r&d vs r&b')\n",
    "print(S.replace_all(['&','vs'],[' and ']) )\n",
    "print(S)\n",
    "print(S.split_all(['&',' vs ']) )\n",
    "print(S)"
   ]
  },
  {
   "cell_type": "markdown",
   "metadata": {
    "collapsed": false
   },
   "source": [
    "## Files\n",
    "\n",
    "Working with files is fairly straightforward in Python."
   ]
  },
  {
   "cell_type": "code",
   "execution_count": 197,
   "metadata": {
    "collapsed": true
   },
   "outputs": [],
   "source": [
    "f = open('fooz.txt', 'w') \n"
   ]
  },
  {
   "cell_type": "code",
   "execution_count": 198,
   "metadata": {
    "collapsed": false
   },
   "outputs": [
    {
     "name": "stdout",
     "output_type": "stream",
     "text": [
      "<class '_io.TextIOWrapper'>\n"
     ]
    }
   ],
   "source": [
    "print (type(f))\n"
   ]
  },
  {
   "cell_type": "code",
   "execution_count": 199,
   "metadata": {
    "collapsed": false
   },
   "outputs": [
    {
     "name": "stdout",
     "output_type": "stream",
     "text": [
      "Character and line based layer over a BufferedIOBase object, buffer.\n",
      "\n",
      "encoding gives the name of the encoding that the stream will be\n",
      "decoded or encoded with. It defaults to locale.getpreferredencoding(False).\n",
      "\n",
      "errors determines the strictness of encoding and decoding (see\n",
      "help(codecs.Codec) or the documentation for codecs.register) and\n",
      "defaults to \"strict\".\n",
      "\n",
      "newline controls how line endings are handled. It can be None, '',\n",
      "'\\n', '\\r', and '\\r\\n'.  It works as follows:\n",
      "\n",
      "* On input, if newline is None, universal newlines mode is\n",
      "  enabled. Lines in the input can end in '\\n', '\\r', or '\\r\\n', and\n",
      "  these are translated into '\\n' before being returned to the\n",
      "  caller. If it is '', universal newline mode is enabled, but line\n",
      "  endings are returned to the caller untranslated. If it has any of\n",
      "  the other legal values, input lines are only terminated by the given\n",
      "  string, and the line ending is returned to the caller untranslated.\n",
      "\n",
      "* On output, if newline is None, any '\\n' characters written are\n",
      "  translated to the system default line separator, os.linesep. If\n",
      "  newline is '' or '\\n', no translation takes place. If newline is any\n",
      "  of the other legal values, any '\\n' characters written are translated\n",
      "  to the given string.\n",
      "\n",
      "If line_buffering is True, a call to flush is implied when a call to\n",
      "write contains a newline character.\n"
     ]
    }
   ],
   "source": [
    "print(f.__doc__)"
   ]
  },
  {
   "cell_type": "code",
   "execution_count": 200,
   "metadata": {
    "collapsed": false
   },
   "outputs": [
    {
     "name": "stdout",
     "output_type": "stream",
     "text": [
      "PDA_lec2-exercise.ipynb      lec1exercise_solutions.ipynb\r\n",
      "PDA_lec2.ipynb               \u001b[31moldmanandthesea.txt\u001b[m\u001b[m\r\n",
      "fooz.txt                     record.txt\r\n"
     ]
    }
   ],
   "source": [
    "!ls"
   ]
  },
  {
   "cell_type": "markdown",
   "metadata": {
    "collapsed": false
   },
   "source": [
    "When open a file, the mode can be\n",
    "\n",
    "* 'r': reading (default)\n",
    "* 'w': writing\n",
    "* 'a': appending\n",
    "* 'r+': opens the file for both reading and writing\n",
    "\n",
    "In this case the mode is 'w', so we either overwrite the file \"fooz.txt\" or create a new file \"fooz.txt\".\n",
    "\n",
    "## Writing Files"
   ]
  },
  {
   "cell_type": "code",
   "execution_count": 201,
   "metadata": {
    "collapsed": false
   },
   "outputs": [],
   "source": [
    "f.write('this is some text.\\nThis is another line.\\n')\n",
    "f.write('oh snap, more lines.\\nIt\\'s a line.\\n')\n",
    "f.close()"
   ]
  },
  {
   "cell_type": "markdown",
   "metadata": {},
   "source": [
    "**Do not forget to close the file after using it.** Otherwise, you can not open the file with the other applications.\n",
    "\n",
    "Print out the contents by using a shell command, as follows:"
   ]
  },
  {
   "cell_type": "code",
   "execution_count": 202,
   "metadata": {
    "collapsed": false
   },
   "outputs": [
    {
     "name": "stdout",
     "output_type": "stream",
     "text": [
      "this is some text.\r\n",
      "This is another line.\r\n",
      "oh snap, more lines.\r\n",
      "It's a line.\r\n"
     ]
    }
   ],
   "source": [
    "!cat fooz.txt  # more instead of cat for a pc"
   ]
  },
  {
   "cell_type": "markdown",
   "metadata": {},
   "source": [
    "## Reading Files\n",
    "\n",
    "The `read` method returns the file contents as a string."
   ]
  },
  {
   "cell_type": "code",
   "execution_count": 203,
   "metadata": {
    "collapsed": false
   },
   "outputs": [
    {
     "data": {
      "text/plain": [
       "\"this is some text.\\nThis is another line.\\noh snap, more lines.\\nIt's a line.\\n\""
      ]
     },
     "execution_count": 203,
     "metadata": {},
     "output_type": "execute_result"
    }
   ],
   "source": [
    "f = open('fooz.txt', 'r') \n",
    "f.read()"
   ]
  },
  {
   "cell_type": "markdown",
   "metadata": {},
   "source": [
    "Running `f.read` the second time will return nothing because all the contents have already been printed out."
   ]
  },
  {
   "cell_type": "code",
   "execution_count": 204,
   "metadata": {
    "collapsed": false
   },
   "outputs": [
    {
     "data": {
      "text/plain": [
       "''"
      ]
     },
     "execution_count": 204,
     "metadata": {},
     "output_type": "execute_result"
    }
   ],
   "source": [
    "f.read()"
   ]
  },
  {
   "cell_type": "code",
   "execution_count": 205,
   "metadata": {
    "collapsed": true
   },
   "outputs": [],
   "source": [
    "f.close()"
   ]
  },
  {
   "cell_type": "code",
   "execution_count": 207,
   "metadata": {
    "collapsed": false
   },
   "outputs": [
    {
     "ename": "ValueError",
     "evalue": "I/O operation on closed file.",
     "output_type": "error",
     "traceback": [
      "\u001b[0;31m---------------------------------------------------------------------------\u001b[0m",
      "\u001b[0;31mValueError\u001b[0m                                Traceback (most recent call last)",
      "\u001b[0;32m<ipython-input-207-a5cb34ba368e>\u001b[0m in \u001b[0;36m<module>\u001b[0;34m()\u001b[0m\n\u001b[0;32m----> 1\u001b[0;31m \u001b[0mf\u001b[0m\u001b[0;34m.\u001b[0m\u001b[0mread\u001b[0m\u001b[0;34m(\u001b[0m\u001b[0;34m)\u001b[0m \u001b[0;31m# ValueError: I/O operation on closed file\u001b[0m\u001b[0;34m\u001b[0m\u001b[0m\n\u001b[0m",
      "\u001b[0;31mValueError\u001b[0m: I/O operation on closed file."
     ]
    }
   ],
   "source": [
    "f.read() # ValueError: I/O operation on closed file"
   ]
  },
  {
   "cell_type": "markdown",
   "metadata": {},
   "source": [
    "## Reading part of the file"
   ]
  },
  {
   "cell_type": "code",
   "execution_count": 208,
   "metadata": {
    "collapsed": true
   },
   "outputs": [],
   "source": [
    "f = open('fooz.txt', 'r')"
   ]
  },
  {
   "cell_type": "code",
   "execution_count": 209,
   "metadata": {
    "collapsed": false
   },
   "outputs": [
    {
     "data": {
      "text/plain": [
       "'this '"
      ]
     },
     "execution_count": 209,
     "metadata": {},
     "output_type": "execute_result"
    }
   ],
   "source": [
    "f.read(5) # the first 5 bytes"
   ]
  },
  {
   "cell_type": "code",
   "execution_count": 210,
   "metadata": {
    "collapsed": false
   },
   "outputs": [
    {
     "data": {
      "text/plain": [
       "'is so'"
      ]
     },
     "execution_count": 210,
     "metadata": {},
     "output_type": "execute_result"
    }
   ],
   "source": [
    "f.read(5) # the next 5 bytes"
   ]
  },
  {
   "cell_type": "code",
   "execution_count": 211,
   "metadata": {
    "collapsed": false
   },
   "outputs": [
    {
     "data": {
      "text/plain": [
       "\"me text.\\nThis is another line.\\noh snap, more lines.\\nIt's a line.\\n\""
      ]
     },
     "execution_count": 211,
     "metadata": {},
     "output_type": "execute_result"
    }
   ],
   "source": [
    "f.read() # the remaining contents"
   ]
  },
  {
   "cell_type": "code",
   "execution_count": 212,
   "metadata": {
    "collapsed": false
   },
   "outputs": [
    {
     "name": "stdout",
     "output_type": "stream",
     "text": [
      "Help on built-in function read:\n",
      "\n",
      "read(size=-1, /) method of _io.TextIOWrapper instance\n",
      "    Read at most n characters from stream.\n",
      "    \n",
      "    Read from underlying buffer until we have n characters or we hit EOF.\n",
      "    If n is negative or omitted, read until EOF.\n",
      "\n"
     ]
    }
   ],
   "source": [
    "f.close()\n",
    "help(f.read)"
   ]
  },
  {
   "cell_type": "markdown",
   "metadata": {},
   "source": [
    "## Reading Files\n",
    "Another way to read files is using the method **readlines**.  This method returns a list in which each element refers to one line."
   ]
  },
  {
   "cell_type": "code",
   "execution_count": 213,
   "metadata": {
    "collapsed": false
   },
   "outputs": [
    {
     "name": "stdout",
     "output_type": "stream",
     "text": [
      "['this is some text.\\n', 'This is another line.\\n', 'oh snap, more lines.\\n', \"It's a line.\\n\"]\n"
     ]
    }
   ],
   "source": [
    "f = open('fooz.txt', 'r')\n",
    "lines=f.readlines()\n",
    "print(lines)\n",
    "f.close()"
   ]
  },
  {
   "cell_type": "code",
   "execution_count": 214,
   "metadata": {
    "collapsed": false
   },
   "outputs": [
    {
     "name": "stdout",
     "output_type": "stream",
     "text": [
      "Help on built-in function readline:\n",
      "\n",
      "readline(size=-1, /) method of _io.TextIOWrapper instance\n",
      "    Read until newline or EOF.\n",
      "    \n",
      "    Returns an empty string if EOF is hit immediately.\n",
      "\n"
     ]
    }
   ],
   "source": [
    "help(f.readline)"
   ]
  },
  {
   "cell_type": "markdown",
   "metadata": {},
   "source": [
    "## Iterating a file object\n",
    "The file object is iterable."
   ]
  },
  {
   "cell_type": "code",
   "execution_count": 215,
   "metadata": {
    "collapsed": false
   },
   "outputs": [
    {
     "data": {
      "text/plain": [
       "['this is some text.\\n',\n",
       " 'This is another line.\\n',\n",
       " 'oh snap, more lines.\\n',\n",
       " \"It's a line.\\n\"]"
      ]
     },
     "execution_count": 215,
     "metadata": {},
     "output_type": "execute_result"
    }
   ],
   "source": [
    "lines"
   ]
  },
  {
   "cell_type": "code",
   "execution_count": 216,
   "metadata": {
    "collapsed": false
   },
   "outputs": [
    {
     "name": "stdout",
     "output_type": "stream",
     "text": [
      "this is some text.\n",
      "\n",
      "This is another line.\n",
      "\n",
      "oh snap, more lines.\n",
      "\n",
      "It's a line.\n",
      "\n"
     ]
    }
   ],
   "source": [
    "f = open('fooz.txt', 'r')\n",
    "for i in f:\n",
    "    print(i)\n",
    "f.close()"
   ]
  },
  {
   "cell_type": "markdown",
   "metadata": {},
   "source": [
    "Overwrite the file \"fooz.txt\" by using the following shell command."
   ]
  },
  {
   "cell_type": "code",
   "execution_count": 217,
   "metadata": {
    "collapsed": true
   },
   "outputs": [],
   "source": [
    "!echo \"One line.\\nTwo line.\\nThird line.\\nFourth line.\" > fooz.txt #use >> to just add lines at the end"
   ]
  },
  {
   "cell_type": "code",
   "execution_count": 222,
   "metadata": {
    "collapsed": false
   },
   "outputs": [
    {
     "name": "stdout",
     "output_type": "stream",
     "text": [
      "One line.\r\n",
      "Two line.\r\n",
      "Third line.\r\n",
      "Fourth line.\r\n"
     ]
    }
   ],
   "source": [
    "!cat fooz.txt"
   ]
  },
  {
   "cell_type": "code",
   "execution_count": 225,
   "metadata": {
    "collapsed": false
   },
   "outputs": [
    {
     "name": "stdout",
     "output_type": "stream",
     "text": [
      "<enumerate object at 0x111271438>\n"
     ]
    }
   ],
   "source": [
    "print(enumerate(open('fooz.txt', 'r')))"
   ]
  },
  {
   "cell_type": "code",
   "execution_count": 220,
   "metadata": {
    "collapsed": false
   },
   "outputs": [
    {
     "name": "stdout",
     "output_type": "stream",
     "text": [
      "One line.\r\n",
      "Third line.\r\n"
     ]
    }
   ],
   "source": [
    "# this reads the even lines and writes them to a new file\n",
    "f1 = open('fooz.txt', 'r')\n",
    "f2 = open('fooz2.txt', 'w')\n",
    "for i, elem in enumerate(f1):\n",
    "    if i%2==0:\n",
    "        f2.write(elem)    \n",
    "f1.close()\n",
    "f2.close()\n",
    "! cat fooz2.txt"
   ]
  },
  {
   "cell_type": "markdown",
   "metadata": {},
   "source": [
    "**Exercise 4**\n",
    "\n",
    "Write a function named `text_cleaner()` that takes three parameters: a file name to read, a filename to write and a list of punctuation marks to remove.  The function should read a file and write the contents to another file.  The text should have all given puctuation marks removed and all strings in lowercase.\n"
   ]
  },
  {
   "cell_type": "code",
   "execution_count": 234,
   "metadata": {
    "collapsed": false
   },
   "outputs": [],
   "source": [
    "#Your code here\n",
    "\n",
    "def text_cleaner(file1, file2, punctuation):\n",
    "    f1 = open(file1, 'r')\n",
    "    f2 = open(file2, 'w')\n",
    "    for i, elem in enumerate(f1):\n",
    "        elem = elem.lower()\n",
    "        elem = mystr(elem).replace_all(punctuation, [''])\n",
    "        f2.write(elem)    \n",
    "f1.close()\n",
    "f2.close()"
   ]
  },
  {
   "cell_type": "code",
   "execution_count": 235,
   "metadata": {
    "collapsed": false
   },
   "outputs": [
    {
     "name": "stdout",
     "output_type": "stream",
     "text": [
      "One line.\r\n",
      "Two line.\r\n",
      "Third line.\r\n",
      "Fourth line.\r\n"
     ]
    }
   ],
   "source": [
    "!cat fooz.txt"
   ]
  },
  {
   "cell_type": "code",
   "execution_count": 236,
   "metadata": {
    "collapsed": false
   },
   "outputs": [],
   "source": [
    "text_cleaner('fooz.txt','clean.txt', ['.', '#'])"
   ]
  },
  {
   "cell_type": "code",
   "execution_count": 237,
   "metadata": {
    "collapsed": false
   },
   "outputs": [
    {
     "name": "stdout",
     "output_type": "stream",
     "text": [
      "one line\r\n",
      "two line\r\n",
      "third line\r\n",
      "fourth line\r\n"
     ]
    }
   ],
   "source": [
    "!cat clean.txt"
   ]
  },
  {
   "cell_type": "markdown",
   "metadata": {},
   "source": [
    "## Preliminary Topics \n",
    "\n",
    "### Sort a dictionary\n",
    "\n",
    "Since dictionary is unordered, converting it to a list by using .items method is necessary.\n",
    "\n",
    "Then the function **sorted** can be used to sort a list."
   ]
  },
  {
   "cell_type": "code",
   "execution_count": 238,
   "metadata": {
    "collapsed": false
   },
   "outputs": [
    {
     "name": "stdout",
     "output_type": "stream",
     "text": [
      "dict_items([('a', 5), ('b', 3), ('c', 2)])\n",
      "[('a', 5), ('b', 3), ('c', 2)]\n"
     ]
    }
   ],
   "source": [
    "d = {'a': 5, 'b': 3, 'c':2}\n",
    "d = d.items() # convert to a list\n",
    "print(d)\n",
    "print(list(d))"
   ]
  },
  {
   "cell_type": "code",
   "execution_count": 239,
   "metadata": {
    "collapsed": false
   },
   "outputs": [
    {
     "data": {
      "text/plain": [
       "[('a', 5), ('b', 3), ('c', 2)]"
      ]
     },
     "execution_count": 239,
     "metadata": {},
     "output_type": "execute_result"
    }
   ],
   "source": [
    "sorted(d)"
   ]
  },
  {
   "cell_type": "code",
   "execution_count": 240,
   "metadata": {
    "collapsed": false
   },
   "outputs": [
    {
     "data": {
      "text/plain": [
       "[('c', 2), ('b', 3), ('a', 5)]"
      ]
     },
     "execution_count": 240,
     "metadata": {},
     "output_type": "execute_result"
    }
   ],
   "source": [
    "sorted(d, key = lambda x: x[1])"
   ]
  },
  {
   "cell_type": "markdown",
   "metadata": {},
   "source": [
    "* The argument `key` in sorted need a function which is callable.\n",
    "* Here `lambda x: x[1]` is a anonymous function, which is similar to the function defined by the keyword `def`.\n",
    "* This whole command means sort the list by the second element.\n"
   ]
  },
  {
   "cell_type": "markdown",
   "metadata": {
    "collapsed": false
   },
   "source": [
    "**Exercise 5**\n",
    "\n",
    "Write a function named `wordCounter()` that takes a file name as an argument.  The function should:\n",
    "\n",
    "* open the file\n",
    "* strip every line\n",
    "* remove punctuation marks\n",
    "* convert all words to lowercase\n",
    "* create a word frequency dictionary\n",
    "* return a sorted list version of the dictionary\n",
    "\n"
   ]
  },
  {
   "cell_type": "code",
   "execution_count": 304,
   "metadata": {
    "collapsed": false
   },
   "outputs": [
    {
     "data": {
      "text/plain": [
       "[('line', 4), ('one', 1), ('', 1), ('two', 1), ('third', 1), ('fourth', 1)]"
      ]
     },
     "execution_count": 304,
     "metadata": {},
     "output_type": "execute_result"
    }
   ],
   "source": [
    "#your code here\n",
    "def countWord(str):\n",
    "    str = str.lower()\n",
    "    words_frequencies = {}\n",
    "    current_word = ''\n",
    "    separators = string.punctuation + ' '\n",
    "    i=0\n",
    "    # get to the first word\n",
    "    while i < len(str):\n",
    "        while i < len(str) and str[i] in separators:\n",
    "            i+=1\n",
    "        while i < len(str) and str[i] not in separators:\n",
    "            current_word = current_word+str[i]\n",
    "            i+=1\n",
    "        if current_word != '': #needed for the last loop\n",
    "            try:\n",
    "                words_frequencies[current_word]+=1\n",
    "            except KeyError:\n",
    "                words_frequencies[current_word]=1\n",
    "        current_word = ''\n",
    "    return words_frequencies\n",
    "\n",
    "def wordCounter(file_name):\n",
    "    dictio = {}\n",
    "    f = open(file_name, 'r',encoding='utf-8', errors='ignore')\n",
    "    for line in f.readlines():\n",
    "        line = line.strip()\n",
    "        line = mystr.replace_all(line, \".,?!\\';:\", [' '])\n",
    "        line = line.lower()\n",
    "        line = mystr.split_all(mystr(line), [' '])\n",
    "        for word in line:\n",
    "            if word in dictio and word != '':\n",
    "                dictio[word]+=1\n",
    "            else:\n",
    "                dictio[word]=1\n",
    "    f.close()\n",
    "    dictio = dictio.items()\n",
    "    return sorted(list(dictio), key = lambda x: x[1], reverse = True)\n",
    "\n",
    "wordCounter('fooz.txt') "
   ]
  },
  {
   "cell_type": "code",
   "execution_count": 305,
   "metadata": {
    "collapsed": false
   },
   "outputs": [
    {
     "data": {
      "text/plain": [
       "[('the', 2330),\n",
       " ('and', 1260),\n",
       " ('he', 1137),\n",
       " ('of', 547),\n",
       " ('it', 479),\n",
       " ('to', 458),\n",
       " ('his', 446),\n",
       " ('\"', 441),\n",
       " ('was', 436),\n",
       " ('i', 406),\n",
       " ('a', 397),\n",
       " ('in', 365),\n",
       " ('that', 296),\n",
       " ('fish', 280),\n",
       " ('man', 268),\n",
       " ('old', 252),\n",
       " ('him', 230),\n",
       " ('but', 215),\n",
       " ('with', 205),\n",
       " ('not', 203),\n",
       " ('had', 203),\n",
       " ('on', 203),\n",
       " ('as', 197),\n",
       " ('is', 193),\n",
       " ('said', 189),\n",
       " ('you', 171),\n",
       " ('thought', 165),\n",
       " ('now', 162),\n",
       " ('then', 146),\n",
       " ('they', 144),\n",
       " ('have', 143),\n",
       " ('for', 139),\n",
       " ('were', 138),\n",
       " ('line', 138),\n",
       " ('could', 116),\n",
       " ('water', 105),\n",
       " ('out', 104),\n",
       " ('when', 103),\n",
       " ('\"i', 102),\n",
       " ('at', 100),\n",
       " ('boy', 100),\n",
       " ('them', 97),\n",
       " ('there', 96),\n",
       " ('all', 96),\n",
       " ('would', 95),\n",
       " ('from', 94),\n",
       " ('will', 90),\n",
       " ('hand', 90),\n",
       " ('down', 89),\n",
       " ('do', 88),\n",
       " ('be', 87),\n",
       " ('back', 85),\n",
       " ('up', 83),\n",
       " ('so', 83),\n",
       " ('s', 82),\n",
       " ('no', 77),\n",
       " ('can', 77),\n",
       " ('if', 75),\n",
       " ('one', 73),\n",
       " ('must', 72),\n",
       " ('too', 70),\n",
       " ('see', 67),\n",
       " ('again', 64),\n",
       " ('great', 64),\n",
       " ('are', 62),\n",
       " ('head', 62),\n",
       " ('what', 61),\n",
       " ('more', 60),\n",
       " ('or', 59),\n",
       " ('me', 59),\n",
       " ('against', 59),\n",
       " ('did', 57),\n",
       " ('this', 56),\n",
       " ('into', 56),\n",
       " ('only', 53),\n",
       " ('two', 53),\n",
       " ('come', 52),\n",
       " ('over', 51),\n",
       " ('left', 50),\n",
       " ('made', 49),\n",
       " ('skiff', 48),\n",
       " ('my', 48),\n",
       " ('sea', 47),\n",
       " ('sun', 47),\n",
       " ('time', 47),\n",
       " ('much', 46),\n",
       " ('shark', 46),\n",
       " ('saw', 46),\n",
       " ('like', 45),\n",
       " ('knew', 45),\n",
       " ('good', 44),\n",
       " ('hands', 44),\n",
       " ('eat', 44),\n",
       " ('been', 43),\n",
       " ('go', 43),\n",
       " ('think', 43),\n",
       " ('their', 42),\n",
       " ('dark', 42),\n",
       " ('came', 41),\n",
       " ('get', 41),\n",
       " ('well', 40),\n",
       " ('we', 40),\n",
       " ('felt', 40),\n",
       " ('boat', 39),\n",
       " ('t', 39),\n",
       " ('ll', 39),\n",
       " ('still', 39),\n",
       " ('some', 38),\n",
       " ('looked', 37),\n",
       " ('am', 37),\n",
       " ('himself', 37),\n",
       " ('fast', 37),\n",
       " ('make', 36),\n",
       " ('big', 36),\n",
       " ('know', 36),\n",
       " ('let', 36),\n",
       " ('went', 35),\n",
       " ('aloud', 35),\n",
       " ('very', 34),\n",
       " ('before', 34),\n",
       " ('where', 34),\n",
       " ('first', 33),\n",
       " ('after', 33),\n",
       " ('cut', 33),\n",
       " ('just', 33),\n",
       " ('put', 33),\n",
       " ('right', 33),\n",
       " ('by', 32),\n",
       " ('bow', 32),\n",
       " ('long', 32),\n",
       " ('your', 31),\n",
       " ('side', 31),\n",
       " ('than', 30),\n",
       " ('each', 30),\n",
       " ('its', 30),\n",
       " ('took', 30),\n",
       " ('nothing', 30),\n",
       " ('night', 30),\n",
       " ('her', 30),\n",
       " ('an', 29),\n",
       " ('about', 29),\n",
       " ('\"he', 29),\n",
       " ('many', 29),\n",
       " ('other', 29),\n",
       " ('under', 28),\n",
       " ('how', 28),\n",
       " ('take', 28),\n",
       " ('across', 28),\n",
       " ('never', 28),\n",
       " ('stern', 27),\n",
       " ('slowly', 27),\n",
       " ('little', 27),\n",
       " ('bird', 26),\n",
       " ('dolphin', 26),\n",
       " ('through', 26),\n",
       " ('has', 26),\n",
       " ('hit', 26),\n",
       " ('any', 25),\n",
       " ('day', 25),\n",
       " ('\"you', 25),\n",
       " ('off', 25),\n",
       " ('though', 25),\n",
       " ('held', 25),\n",
       " ('pull', 25),\n",
       " ('watched', 25),\n",
       " ('who', 24),\n",
       " ('eyes', 24),\n",
       " ('tail', 24),\n",
       " ('work', 23),\n",
       " ('because', 23),\n",
       " ('far', 23),\n",
       " ('keep', 23),\n",
       " ('started', 23),\n",
       " ('feel', 23),\n",
       " ('small', 23),\n",
       " ('way', 22),\n",
       " ('light', 22),\n",
       " ('something', 22),\n",
       " ('strong', 22),\n",
       " ('even', 22),\n",
       " ('flying', 22),\n",
       " ('wish', 22),\n",
       " ('kill', 22),\n",
       " ('gone', 21),\n",
       " ('another', 21),\n",
       " ('lines', 21),\n",
       " ('until', 21),\n",
       " ('nor', 21),\n",
       " ('without', 20),\n",
       " ('harpoon', 20),\n",
       " ('sail', 20),\n",
       " ('around', 20),\n",
       " ('going', 20),\n",
       " ('hook', 20),\n",
       " ('once', 20),\n",
       " ('shoulders', 20),\n",
       " ('away', 20),\n",
       " ('knife', 20),\n",
       " ('heavy', 19),\n",
       " ('\"but', 19),\n",
       " ('remember', 19),\n",
       " ('sharks', 19),\n",
       " ('better', 19),\n",
       " ('bring', 19),\n",
       " ('should', 19),\n",
       " ('sleep', 19),\n",
       " ('maybe', 18),\n",
       " ('strength', 18),\n",
       " ('wood', 18),\n",
       " ('fishermen', 17),\n",
       " ('current', 17),\n",
       " ('asked', 17),\n",
       " ('almost', 17),\n",
       " ('perhaps', 17),\n",
       " ('high', 17),\n",
       " ('pulled', 17),\n",
       " ('ocean', 17),\n",
       " ('bait', 17),\n",
       " ('jaws', 17),\n",
       " ('always', 16),\n",
       " ('mast', 16),\n",
       " ('deep', 16),\n",
       " ('everything', 16),\n",
       " ('steady', 16),\n",
       " ('cannot', 16),\n",
       " ('breeze', 16),\n",
       " ('want', 16),\n",
       " ('bad', 16),\n",
       " ('bed', 16),\n",
       " ('weight', 16),\n",
       " ('while', 16),\n",
       " ('surface', 16),\n",
       " ('steadily', 16),\n",
       " ('circle', 16),\n",
       " ('\"it', 15),\n",
       " ('seen', 15),\n",
       " ('try', 15),\n",
       " ('strange', 15),\n",
       " ('leaned', 15),\n",
       " ('both', 15),\n",
       " ('coming', 15),\n",
       " ('meat', 15),\n",
       " ('might', 15),\n",
       " ('our', 15),\n",
       " ('hard', 15),\n",
       " ('turned', 15),\n",
       " ('oars', 15),\n",
       " ('mouth', 15),\n",
       " ('clear', 15),\n",
       " ('tuna', 15),\n",
       " ('turn', 15),\n",
       " ('which', 14),\n",
       " ('\"no', 14),\n",
       " ('open', 14),\n",
       " ('course', 14),\n",
       " ('morning', 14),\n",
       " ('sometimes', 14),\n",
       " ('things', 14),\n",
       " ('hurt', 14),\n",
       " ('onto', 14),\n",
       " ('rose', 14),\n",
       " ('since', 14),\n",
       " ('blue', 14),\n",
       " ('coils', 14),\n",
       " ('straight', 14),\n",
       " ('wide', 14),\n",
       " ('purple', 14),\n",
       " ('moved', 14),\n",
       " ('may', 13),\n",
       " ('part', 13),\n",
       " ('wind', 13),\n",
       " ('sardines', 13),\n",
       " ('together', 13),\n",
       " ('enough', 13),\n",
       " ('yellow', 13),\n",
       " ('half', 13),\n",
       " ('here', 13),\n",
       " ('say', 13),\n",
       " ('feet', 13),\n",
       " ('hooked', 13),\n",
       " ('swam', 13),\n",
       " ('air', 13),\n",
       " ('tried', 13),\n",
       " ('tired', 13),\n",
       " ('last', 12),\n",
       " ('days', 12),\n",
       " ('three', 12),\n",
       " ('brought', 12),\n",
       " ('does', 12),\n",
       " ('shoulder', 12),\n",
       " ('road', 12),\n",
       " ('shack', 12),\n",
       " ('white', 12),\n",
       " ('lay', 12),\n",
       " ('arm', 12),\n",
       " ('don', 12),\n",
       " ('ever', 12),\n",
       " ('dream', 12),\n",
       " ('moon', 12),\n",
       " ('soon', 12),\n",
       " ('hold', 12),\n",
       " ('luck', 12),\n",
       " ('rope', 12),\n",
       " ('hundred', 12),\n",
       " ('showed', 12),\n",
       " ('sky', 12),\n",
       " ('rest', 12),\n",
       " ('strain', 12),\n",
       " ('fight', 12),\n",
       " ('pain', 12),\n",
       " ('tiller', 12),\n",
       " ('alone', 11),\n",
       " ('told', 11),\n",
       " ('gaff', 11),\n",
       " ('face', 11),\n",
       " ('fresh', 11),\n",
       " ('re', 11),\n",
       " ('stay', 11),\n",
       " ('baseball', 11),\n",
       " ('feeling', 11),\n",
       " ('blood', 11),\n",
       " ('wonder', 11),\n",
       " ('such', 11),\n",
       " ('us', 11),\n",
       " ('cold', 11),\n",
       " ('although', 11),\n",
       " ('m', 11),\n",
       " ('land', 11),\n",
       " ('moving', 11),\n",
       " ('\"now', 11),\n",
       " ('began', 11),\n",
       " ('point', 11),\n",
       " ('hours', 11),\n",
       " ('look', 11),\n",
       " ('circling', 11),\n",
       " ('thing', 11),\n",
       " ('used', 10),\n",
       " ('help', 10),\n",
       " ('except', 10),\n",
       " ('same', 10),\n",
       " ('terrace', 10),\n",
       " ('home', 10),\n",
       " ('today', 10),\n",
       " ('killed', 10),\n",
       " ('salt', 10),\n",
       " ('hope', 10),\n",
       " ('truly', 10),\n",
       " ('club', 10),\n",
       " ('sure', 10),\n",
       " ('\"what', 10),\n",
       " ('asleep', 10),\n",
       " ('spread', 10),\n",
       " ('times', 10),\n",
       " ('inside', 10),\n",
       " ('heard', 10),\n",
       " ('boats', 10),\n",
       " ('sorry', 10),\n",
       " ('reached', 10),\n",
       " ('knows', 10),\n",
       " ('swung', 10),\n",
       " ('huge', 10),\n",
       " ('fingers', 10),\n",
       " ('calm', 10),\n",
       " ('rested', 10),\n",
       " ('jump', 10),\n",
       " ('eye', 10),\n",
       " ('badly', 10),\n",
       " ('bone', 10),\n",
       " ('negro', 10),\n",
       " ('oar', 10),\n",
       " ('these', 9),\n",
       " ('new', 9),\n",
       " ('loved', 9),\n",
       " ('others', 9),\n",
       " ('carried', 9),\n",
       " ('taken', 9),\n",
       " ('smell', 9),\n",
       " ('dropped', 9),\n",
       " ('baits', 9),\n",
       " ('people', 9),\n",
       " ('called', 9),\n",
       " ('fisherman', 9),\n",
       " ('forward', 9),\n",
       " ('moment', 9),\n",
       " ('eating', 9),\n",
       " ('give', 9),\n",
       " ('gently', 9),\n",
       " ('between', 9),\n",
       " ('lions', 9),\n",
       " ('early', 9),\n",
       " ('trousers', 9),\n",
       " ('foot', 9),\n",
       " ('coffee', 9),\n",
       " ('behind', 9),\n",
       " ('looking', 9),\n",
       " ('she', 9),\n",
       " ('worked', 9),\n",
       " ('scent', 9),\n",
       " ('body', 9),\n",
       " ('pulling', 9),\n",
       " ('reserve', 9),\n",
       " ('next', 9),\n",
       " ('tight', 9),\n",
       " ('stars', 9),\n",
       " ('jumped', 9),\n",
       " ('carefully', 9),\n",
       " ('dead', 9),\n",
       " ('blade', 9),\n",
       " ('drove', 9),\n",
       " ('sailed', 9),\n",
       " ('lucky', 8),\n",
       " ('weather', 8),\n",
       " ('\"how', 8),\n",
       " ('breaking', 8),\n",
       " ('tell', 8),\n",
       " ('father', 8),\n",
       " ('mine', 8),\n",
       " ('working', 8),\n",
       " ('along', 8),\n",
       " ('alongside', 8),\n",
       " ('place', 8),\n",
       " ('\"the', 8),\n",
       " ('dimaggio', 8),\n",
       " ('alive', 8),\n",
       " ('ready', 8),\n",
       " ('\"they', 8),\n",
       " ('talk', 8),\n",
       " ('\"and', 8),\n",
       " ('fathoms', 8),\n",
       " ('beautiful', 8),\n",
       " ('kept', 8),\n",
       " ('toward', 8),\n",
       " ('clouds', 8),\n",
       " ('turtles', 8),\n",
       " ('ate', 8),\n",
       " ('beat', 8),\n",
       " ('silver', 8),\n",
       " ('above', 8),\n",
       " ('break', 8),\n",
       " ('cord', 8),\n",
       " ('god', 8),\n",
       " ('swimming', 8),\n",
       " ('male', 8),\n",
       " ('stripes', 8),\n",
       " ('passed', 8),\n",
       " ('sin', 8),\n",
       " ('ebook', 7),\n",
       " ('caught', 7),\n",
       " ('brown', 7),\n",
       " ('show', 7),\n",
       " ('men', 7),\n",
       " ('end', 7),\n",
       " ('those', 7),\n",
       " ('east', 7),\n",
       " ('holding', 7),\n",
       " ('nearly', 7),\n",
       " ('green', 7),\n",
       " ('true', 7),\n",
       " ('beside', 7),\n",
       " ('heart', 7),\n",
       " ('fear', 7),\n",
       " ('blanket', 7),\n",
       " ('closed', 7),\n",
       " ('getting', 7),\n",
       " ('set', 7),\n",
       " ('need', 7),\n",
       " ('done', 7),\n",
       " ('why', 7),\n",
       " ('slept', 7),\n",
       " ('rising', 7),\n",
       " ('anything', 7),\n",
       " ('lifted', 7),\n",
       " ('below', 7),\n",
       " ('rowed', 7),\n",
       " ('close', 7),\n",
       " ('wings', 7),\n",
       " ('birds', 7),\n",
       " ('comes', 7),\n",
       " ('speed', 7),\n",
       " ('hour', 7),\n",
       " ('ahead', 7),\n",
       " ('watching', 7),\n",
       " ('cutting', 7),\n",
       " ('lightly', 7),\n",
       " ('shut', 7),\n",
       " ('found', 7),\n",
       " ('glow', 7),\n",
       " ('legs', 7),\n",
       " ('settled', 7),\n",
       " ('drew', 7),\n",
       " ('anyway', 7),\n",
       " ('cramped', 7),\n",
       " ('believe', 7),\n",
       " ('lights', 7),\n",
       " ('fin', 7),\n",
       " ('making', 6),\n",
       " ('either', 6),\n",
       " ('finally', 6),\n",
       " ('sides', 6),\n",
       " ('ones', 6),\n",
       " ('quite', 6),\n",
       " ('\"yes', 6),\n",
       " ('spoke', 6),\n",
       " ('already', 6),\n",
       " ('marlin', 6),\n",
       " ('length', 6),\n",
       " ('havana', 6),\n",
       " ('fins', 6),\n",
       " ('strips', 6),\n",
       " ('harbour', 6),\n",
       " ('faint', 6),\n",
       " ('edge', 6),\n",
       " ('really', 6),\n",
       " ('\"if', 6),\n",
       " ('picked', 6),\n",
       " ('gear', 6),\n",
       " ('door', 6),\n",
       " ('table', 6),\n",
       " ('clean', 6),\n",
       " ('later', 6),\n",
       " ('pounds', 6),\n",
       " ('gave', 6),\n",
       " ('lose', 6),\n",
       " ('sheet', 6),\n",
       " ('easy', 6),\n",
       " ('life', 6),\n",
       " ('got', 6),\n",
       " ('\"come', 6),\n",
       " ('care', 6),\n",
       " ('kind', 6),\n",
       " ('makes', 6),\n",
       " ('\"there', 6),\n",
       " ('wake', 6),\n",
       " ('late', 6),\n",
       " ('dreamed', 6),\n",
       " ('woke', 6),\n",
       " ('slid', 6),\n",
       " ('weed', 6),\n",
       " ('love', 6),\n",
       " ('exactly', 6),\n",
       " ('higher', 6),\n",
       " ('sight', 6),\n",
       " ('wire', 6),\n",
       " ('school', 6),\n",
       " ('born', 6),\n",
       " ('being', 6),\n",
       " ('slant', 6),\n",
       " ('pushed', 6),\n",
       " ('feed', 6),\n",
       " ('stayed', 6),\n",
       " ('bill', 6),\n",
       " ('drag', 6),\n",
       " ('spur', 6),\n",
       " ('lash', 6),\n",
       " ('fell', 6),\n",
       " ('\"don', 6),\n",
       " ('brain', 6),\n",
       " ('live', 5),\n",
       " ('ernest', 5),\n",
       " ('scribner', 5),\n",
       " ('gulf', 5),\n",
       " ('forty', 5),\n",
       " ('coiled', 5),\n",
       " ('sacks', 5),\n",
       " ('neck', 5),\n",
       " ('every', 5),\n",
       " ('beer', 5),\n",
       " ('laid', 5),\n",
       " ('full', 5),\n",
       " ('waited', 5),\n",
       " ('flesh', 5),\n",
       " ('net', 5),\n",
       " ('noise', 5),\n",
       " ('sweet', 5),\n",
       " ('four', 5),\n",
       " ('box', 5),\n",
       " ('confidence', 5),\n",
       " ('kills', 5),\n",
       " ('wall', 5),\n",
       " ('buy', 5),\n",
       " ('\"we', 5),\n",
       " ('find', 5),\n",
       " ('borrow', 5),\n",
       " ('knees', 5),\n",
       " ('evening', 5),\n",
       " ('hungry', 5),\n",
       " ('yourself', 5),\n",
       " ('belly', 5),\n",
       " ('lost', 5),\n",
       " ('difference', 5),\n",
       " ('fishing', 5),\n",
       " ('africa', 5),\n",
       " ('beaches', 5),\n",
       " ('difficult', 5),\n",
       " ('most', 5),\n",
       " ('happy', 5),\n",
       " ('longer', 5),\n",
       " ('rolled', 5),\n",
       " ('covered', 5),\n",
       " ('shivering', 5),\n",
       " ('bottle', 5),\n",
       " ('trail', 5),\n",
       " ('dip', 5),\n",
       " ('sudden', 5),\n",
       " ('darkness', 5),\n",
       " ('delicate', 5),\n",
       " ('effort', 5),\n",
       " ('third', 5),\n",
       " ('second', 5),\n",
       " ('hung', 5),\n",
       " ('projecting', 5),\n",
       " ('stick', 5),\n",
       " ('necessary', 5),\n",
       " ('low', 5),\n",
       " ('driving', 5),\n",
       " ('meant', 5),\n",
       " ('arms', 5),\n",
       " ('hear', 5),\n",
       " ('also', 5),\n",
       " ('ten', 5),\n",
       " ('trade', 5),\n",
       " ('thumb', 5),\n",
       " ('goes', 5),\n",
       " ('bitt', 5),\n",
       " ('forever', 5),\n",
       " ('braced', 5),\n",
       " ('jerk', 5),\n",
       " ('sack', 5),\n",
       " ('matter', 5),\n",
       " ('brothers', 5),\n",
       " ('afraid', 5),\n",
       " ('sharp', 5),\n",
       " ('top', 5),\n",
       " ('loose', 5),\n",
       " ('\"fish', 5),\n",
       " ('die', 5),\n",
       " ('learn', 5),\n",
       " ('friend', 5),\n",
       " ('liked', 5),\n",
       " ('pay', 5),\n",
       " ('washed', 5),\n",
       " ('piece', 5),\n",
       " ('chewed', 5),\n",
       " ('instead', 5),\n",
       " ('cramp', 5),\n",
       " ('suffering', 5),\n",
       " ('death', 5),\n",
       " ('afternoon', 5),\n",
       " ('spots', 5),\n",
       " ('turns', 5),\n",
       " ('steer', 5),\n",
       " ('lashed', 5),\n",
       " ('nose', 5),\n",
       " ('different', 4),\n",
       " ('use', 4),\n",
       " ('copyright', 4),\n",
       " ('outside', 4),\n",
       " ('hemingway', 4),\n",
       " ('1952', 4),\n",
       " ('taking', 4),\n",
       " ('sad', 4),\n",
       " ('carry', 4),\n",
       " ('furled', 4),\n",
       " ('ran', 4),\n",
       " ('leave', 4),\n",
       " ('sat', 4),\n",
       " ('house', 4),\n",
       " ('ice', 4),\n",
       " ('north', 4),\n",
       " ('years', 4),\n",
       " ('tomorrow', 4),\n",
       " ('confident', 4),\n",
       " ('mother', 4),\n",
       " ('\"let', 4),\n",
       " ('didn', 4),\n",
       " ('\"then', 4),\n",
       " ('coast', 4),\n",
       " ('cast', 4),\n",
       " ('walked', 4),\n",
       " ('room', 4),\n",
       " ('chair', 4),\n",
       " ('shirt', 4),\n",
       " ('rice', 4),\n",
       " ('remembered', 4),\n",
       " ('yesterday', 4),\n",
       " ('yankees', 4),\n",
       " ('\"do', 4),\n",
       " ('happen', 4),\n",
       " ('twice', 4),\n",
       " ('order', 4),\n",
       " ('september', 4),\n",
       " ('newspaper', 4),\n",
       " ('opened', 4),\n",
       " ('thank', 4),\n",
       " ('best', 4),\n",
       " ('excellent', 4),\n",
       " ('\"tell', 4),\n",
       " ('means', 4),\n",
       " ('wanted', 4),\n",
       " ('greatest', 4),\n",
       " ('eaten', 4),\n",
       " ('short', 4),\n",
       " ('smelled', 4),\n",
       " ('beach', 4),\n",
       " ('anyone', 4),\n",
       " ('drank', 4),\n",
       " ('hills', 4),\n",
       " ('headed', 4),\n",
       " ('phosphorescence', 4),\n",
       " ('suddenly', 4),\n",
       " ('wild', 4),\n",
       " ('flat', 4),\n",
       " ('further', 4),\n",
       " ('tied', 4),\n",
       " ('solid', 4),\n",
       " ('touch', 4),\n",
       " ('shore', 4),\n",
       " ('yet', 4),\n",
       " ('black', 4),\n",
       " ('quick', 4),\n",
       " ('trying', 4),\n",
       " ('swinging', 4),\n",
       " ('chance', 4),\n",
       " ('red', 4),\n",
       " ('shape', 4),\n",
       " ('righted', 4),\n",
       " ('itself', 4),\n",
       " ('filaments', 4),\n",
       " ('catch', 4),\n",
       " ('quickly', 4),\n",
       " ('struck', 4),\n",
       " ('stepped', 4),\n",
       " ('stupid', 4),\n",
       " ('turtle', 4),\n",
       " ('broke', 4),\n",
       " ('jumping', 4),\n",
       " ('taut', 4),\n",
       " ('commenced', 4),\n",
       " ('planking', 4),\n",
       " ('mile', 4),\n",
       " ('sweat', 4),\n",
       " ('tension', 4),\n",
       " ('\"god', 4),\n",
       " ('pressure', 4),\n",
       " ('free', 4),\n",
       " ('gained', 4),\n",
       " ('slow', 4),\n",
       " ('move', 4),\n",
       " ('noon', 4),\n",
       " ('dry', 4),\n",
       " ('comfortable', 4),\n",
       " ('eastward', 4),\n",
       " ('blowing', 4),\n",
       " ('female', 4),\n",
       " ('size', 4),\n",
       " ('clubbed', 4),\n",
       " ('colour', 4),\n",
       " ('lavender', 4),\n",
       " ('showing', 4),\n",
       " ('daylight', 4),\n",
       " ('gunwale', 4),\n",
       " ('lurch', 4),\n",
       " ('slipped', 4),\n",
       " ('risen', 4),\n",
       " ('handle', 4),\n",
       " ('added', 4),\n",
       " ('jerked', 4),\n",
       " ('bonito', 4),\n",
       " ('raw', 4),\n",
       " ('hurricane', 4),\n",
       " ('built', 4),\n",
       " ('sword', 4),\n",
       " ('easily', 4),\n",
       " ('swim', 4),\n",
       " ('shadow', 4),\n",
       " ('beaten', 4),\n",
       " ('spring', 4),\n",
       " ('broken', 4),\n",
       " ('food', 4),\n",
       " ('resting', 4),\n",
       " ('lower', 4),\n",
       " ('gills', 4),\n",
       " ('besides', 4),\n",
       " ('drink', 4),\n",
       " ('lashing', 4),\n",
       " ('_dentuso_', 4),\n",
       " ('butt', 4),\n",
       " ('gutenberg', 3),\n",
       " ('canada', 3),\n",
       " ('few', 3),\n",
       " ('change', 3),\n",
       " ('please', 3),\n",
       " ('date', 3),\n",
       " ('york', 3),\n",
       " ('charles', 3),\n",
       " ('form', 3),\n",
       " ('fished', 3),\n",
       " ('stream', 3),\n",
       " ('patched', 3),\n",
       " ('skin', 3),\n",
       " ('brings', 3),\n",
       " ('ve', 3),\n",
       " ('money', 3),\n",
       " ('hasn', 3),\n",
       " ('\"can', 3),\n",
       " ('stuff', 3),\n",
       " ('older', 3),\n",
       " ('drifted', 3),\n",
       " ('butchered', 3),\n",
       " ('market', 3),\n",
       " ('skinned', 3),\n",
       " ('thinking', 3),\n",
       " ('play', 3),\n",
       " ('throw', 3),\n",
       " ('bought', 3),\n",
       " ('pieces', 3),\n",
       " ('thwart', 3),\n",
       " ('clubbing', 3),\n",
       " ('wet', 3),\n",
       " ('whole', 3),\n",
       " ('d', 3),\n",
       " ('\"one', 3),\n",
       " ('rises', 3),\n",
       " ('steal', 3),\n",
       " ('simple', 3),\n",
       " ('loss', 3),\n",
       " ('pride', 3),\n",
       " ('shaft', 3),\n",
       " ('wrapped', 3),\n",
       " ('walls', 3),\n",
       " ('wife', 3),\n",
       " ('corner', 3),\n",
       " ('\"a', 3),\n",
       " ('thousand', 3),\n",
       " ('sit', 3),\n",
       " ('paper', 3),\n",
       " ('\"be', 3),\n",
       " ('careful', 3),\n",
       " ('eighty-five', 3),\n",
       " ('\"that', 3),\n",
       " ('\"keep', 3),\n",
       " ('warm', 3),\n",
       " ('patches', 3),\n",
       " ('sets', 3),\n",
       " ('sent', 3),\n",
       " ('cans', 3),\n",
       " ('wished', 3),\n",
       " ('needed', 3),\n",
       " ('sort', 3),\n",
       " ('ask', 3),\n",
       " ('understand', 3),\n",
       " ('leagues', 3),\n",
       " ('age', 3),\n",
       " ('rigged', 3),\n",
       " ('ship', 3),\n",
       " ('horses', 3),\n",
       " ('manager', 3),\n",
       " ('wrong', 3),\n",
       " ('resolution', 3),\n",
       " ('\"good', 3),\n",
       " ('clock', 3),\n",
       " ('young', 3),\n",
       " ('putting', 3),\n",
       " ('newspapers', 3),\n",
       " ('golden', 3),\n",
       " ('mountains', 3),\n",
       " ('usually', 3),\n",
       " ('tonight', 3),\n",
       " ('women', 3),\n",
       " ('rowing', 3),\n",
       " ('quietly', 3),\n",
       " ('clearly', 3),\n",
       " ('sitting', 3),\n",
       " ('leaning', 3),\n",
       " ('someone', 3),\n",
       " ('speak', 3),\n",
       " ('hoped', 3),\n",
       " ('schools', 3),\n",
       " ('sound', 3),\n",
       " ('stiff', 3),\n",
       " ('friends', 3),\n",
       " ('harder', 3),\n",
       " ('fine', 3),\n",
       " ('cruel', 3),\n",
       " ('fly', 3),\n",
       " ('woman', 3),\n",
       " ('sardine', 3),\n",
       " ('forty-fathom', 3),\n",
       " ('rise', 3),\n",
       " ('glare', 3),\n",
       " ('rather', 3),\n",
       " ('force', 3),\n",
       " ('slanting', 3),\n",
       " ('shade', 3),\n",
       " ('raised', 3),\n",
       " ('pick', 3),\n",
       " ('plankton', 3),\n",
       " ('floated', 3),\n",
       " ('tiny', 3),\n",
       " ('poison', 3),\n",
       " ('taste', 3),\n",
       " ('jumps', 3),\n",
       " ('increased', 3),\n",
       " ('gold', 3),\n",
       " ('watch', 3),\n",
       " ('prisms', 3),\n",
       " ('among', 3),\n",
       " ('sell', 3),\n",
       " ('hot', 3),\n",
       " ('softly', 3),\n",
       " ('run', 3),\n",
       " ('six', 3),\n",
       " ('finger', 3),\n",
       " ('gentle', 3),\n",
       " ('slip', 3),\n",
       " ('\"eat', 3),\n",
       " ('happened', 3),\n",
       " ('towing', 3),\n",
       " ('plenty', 3),\n",
       " ('endure', 3),\n",
       " ('cramps', 3),\n",
       " ('changed', 3),\n",
       " ('dried', 3),\n",
       " ('less', 3),\n",
       " ('keeps', 3),\n",
       " ('stood', 3),\n",
       " ('wonderful', 3),\n",
       " ('doing', 3),\n",
       " ('rush', 3),\n",
       " ('pectoral', 3),\n",
       " ('choice', 3),\n",
       " ('beyond', 3),\n",
       " ('surely', 3),\n",
       " ('sheath', 3),\n",
       " ('tiring', 3),\n",
       " ('depth', 3),\n",
       " ('backbone', 3),\n",
       " ('gripped', 3),\n",
       " ('overboard', 3),\n",
       " ('noticed', 3),\n",
       " ('attention', 3),\n",
       " ('movement', 3),\n",
       " ('wiped', 3),\n",
       " ('carcass', 3),\n",
       " ('spat', 3),\n",
       " ('hardly', 3),\n",
       " ('brother', 3),\n",
       " ('rubbed', 3),\n",
       " ('themselves', 3),\n",
       " ('months', 3),\n",
       " ('loosen', 3),\n",
       " ('bright', 3),\n",
       " ('smoothly', 3),\n",
       " ('intelligent', 3),\n",
       " ('noble', 3),\n",
       " ('able', 3),\n",
       " ('uncramp', 3),\n",
       " ('shifted', 3),\n",
       " ('fathers', 3),\n",
       " ('hail', 3),\n",
       " ('marys', 3),\n",
       " ('prayers', 3),\n",
       " ('worthy', 3),\n",
       " ('heel', 3),\n",
       " ('eight', 3),\n",
       " ('bettors', 3),\n",
       " ('shaking', 3),\n",
       " ('match', 3),\n",
       " ('everyone', 3),\n",
       " ('decided', 3),\n",
       " ('airplane', 3),\n",
       " ('quiet', 3),\n",
       " ('sunset', 3),\n",
       " ('question', 3),\n",
       " ('punishment', 3),\n",
       " ('hunger', 3),\n",
       " ('prepare', 3),\n",
       " ('sleeping', 3),\n",
       " ('fillets', 3),\n",
       " ('astern', 3),\n",
       " ('yes', 3),\n",
       " ('chewing', 3),\n",
       " ('spear', 3),\n",
       " ('stopped', 3),\n",
       " ('gaining', 3),\n",
       " ('pass', 3),\n",
       " ('dorsal', 3),\n",
       " ('killing', 3),\n",
       " ('chest', 3),\n",
       " ('heads', 3),\n",
       " ('sailing', 3),\n",
       " ('steered', 3),\n",
       " ('teeth', 3),\n",
       " ('clicking', 3),\n",
       " ('chop', 3),\n",
       " ('anymore', 3),\n",
       " ('rudder', 3),\n",
       " ('_galanos_', 3),\n",
       " ('ruined', 3),\n",
       " ('crying', 3),\n",
       " ...]"
      ]
     },
     "execution_count": 305,
     "metadata": {},
     "output_type": "execute_result"
    }
   ],
   "source": [
    "wordCounter('oldmanandthesea.txt')"
   ]
  },
  {
   "cell_type": "code",
   "execution_count": null,
   "metadata": {
    "collapsed": false
   },
   "outputs": [],
   "source": [
    "!cat 'fooz.txt'"
   ]
  },
  {
   "cell_type": "code",
   "execution_count": 281,
   "metadata": {
    "collapsed": false
   },
   "outputs": [
    {
     "name": "stdout",
     "output_type": "stream",
     "text": [
      "Help on built-in function sorted in module builtins:\n",
      "\n",
      "sorted(iterable, /, *, key=None, reverse=False)\n",
      "    Return a new list containing all items from the iterable in ascending order.\n",
      "    \n",
      "    A custom key function can be supplied to customize the sort order, and the\n",
      "    reverse flag can be set to request the result in descending order.\n",
      "\n"
     ]
    }
   ],
   "source": [
    "help(sorted)"
   ]
  },
  {
   "cell_type": "markdown",
   "metadata": {},
   "source": [
    "## Script\n",
    "### Running Python scripts\n",
    "Python is a script language, which means we can run a script as a shell command.\n",
    "Here is simple example, write a line \"print '1 + 1 = %s' %(1+1)\" into the file \"script1.py\":"
   ]
  },
  {
   "cell_type": "code",
   "execution_count": 277,
   "metadata": {
    "collapsed": true
   },
   "outputs": [],
   "source": [
    "!mkdir script"
   ]
  },
  {
   "cell_type": "code",
   "execution_count": 278,
   "metadata": {
    "collapsed": false
   },
   "outputs": [],
   "source": [
    "!echo \"print ('1 + 1 = %s' %(1+1))\" > script/script1.py"
   ]
  },
  {
   "cell_type": "code",
   "execution_count": 279,
   "metadata": {
    "collapsed": false
   },
   "outputs": [
    {
     "name": "stdout",
     "output_type": "stream",
     "text": [
      "print ('1 + 1 = %s' %(1+1))\r\n"
     ]
    }
   ],
   "source": [
    "!cat script/script1.py"
   ]
  },
  {
   "cell_type": "code",
   "execution_count": 280,
   "metadata": {
    "collapsed": false
   },
   "outputs": [
    {
     "name": "stdout",
     "output_type": "stream",
     "text": [
      "1 + 1 = 2\r\n"
     ]
    }
   ],
   "source": [
    "!python script/script1.py"
   ]
  },
  {
   "cell_type": "markdown",
   "metadata": {},
   "source": [
    "## Run Python scripts\n",
    "In practice, we usually need to interact with scripts.\n",
    "\n",
    "- Take in some inputs.\n",
    "- Run the script.\n",
    "- Return some outputs.\n"
   ]
  },
  {
   "cell_type": "code",
   "execution_count": null,
   "metadata": {
    "collapsed": false
   },
   "outputs": [],
   "source": [
    "!mkdir script"
   ]
  },
  {
   "cell_type": "code",
   "execution_count": 291,
   "metadata": {
    "collapsed": false
   },
   "outputs": [
    {
     "data": {
      "text/plain": [
       "148"
      ]
     },
     "execution_count": 291,
     "metadata": {},
     "output_type": "execute_result"
    }
   ],
   "source": [
    "open('script/script.py', 'w').write('''from sys import argv\n",
    "script, name, age = argv\n",
    "print (\"The script is called:\", script)\n",
    "print (\"My name is %s.\" %name)\n",
    "print (\"Im %s years old.\" %age)''')"
   ]
  },
  {
   "cell_type": "code",
   "execution_count": 292,
   "metadata": {
    "collapsed": false
   },
   "outputs": [
    {
     "name": "stdout",
     "output_type": "stream",
     "text": [
      "from sys import argv\r\n",
      "script, name, age = argv\r\n",
      "print (\"The script is called:\", script)\r\n",
      "print (\"My name is %s.\" %name)\r\n",
      "print (\"Im %s years old.\" %age)"
     ]
    }
   ],
   "source": [
    "!cat script/script.py"
   ]
  },
  {
   "cell_type": "code",
   "execution_count": 293,
   "metadata": {
    "collapsed": false
   },
   "outputs": [
    {
     "name": "stdout",
     "output_type": "stream",
     "text": [
      "('The script is called:', 'script/script.py')\r\n",
      "My name is jack.\r\n",
      "Im 18 years old.\r\n"
     ]
    }
   ],
   "source": [
    "!python script/script.py jack 18"
   ]
  },
  {
   "cell_type": "code",
   "execution_count": 294,
   "metadata": {
    "collapsed": false
   },
   "outputs": [
    {
     "name": "stdout",
     "output_type": "stream",
     "text": [
      "('The script is called:', 'script/script.py')\r\n",
      "My name is Lucy.\r\n",
      "Im 20 years old.\r\n"
     ]
    }
   ],
   "source": [
    "!python script/script.py Lucy 20"
   ]
  },
  {
   "cell_type": "code",
   "execution_count": 295,
   "metadata": {
    "collapsed": false
   },
   "outputs": [
    {
     "data": {
      "text/plain": [
       "['script.py', 'script1.py']"
      ]
     },
     "execution_count": 295,
     "metadata": {},
     "output_type": "execute_result"
    }
   ],
   "source": [
    "%%!\n",
    "cd script\n",
    "ls"
   ]
  },
  {
   "cell_type": "markdown",
   "metadata": {
    "collapsed": false
   },
   "source": [
    "**Exercise 6**\n",
    "\n",
    "Write a script named `wordcounter.py` which takes the name of a file and integer (N) and prints out the top N words and their frequency.\n",
    "\n",
    "```\n",
    "from sys import argv\n",
    "script, target, number = argv\n",
    "\n",
    "...\n",
    "```"
   ]
  },
  {
   "cell_type": "code",
   "execution_count": 300,
   "metadata": {
    "collapsed": false
   },
   "outputs": [
    {
     "name": "stdout",
     "output_type": "stream",
     "text": [
      "-f\n"
     ]
    },
    {
     "ename": "FileNotFoundError",
     "evalue": "[Errno 2] No such file or directory: '-f'",
     "output_type": "error",
     "traceback": [
      "\u001b[0;31m---------------------------------------------------------------------------\u001b[0m",
      "\u001b[0;31mFileNotFoundError\u001b[0m                         Traceback (most recent call last)",
      "\u001b[0;32m<ipython-input-300-0e90202c49dc>\u001b[0m in \u001b[0;36m<module>\u001b[0;34m()\u001b[0m\n\u001b[1;32m     32\u001b[0m \u001b[0;34m\u001b[0m\u001b[0m\n\u001b[1;32m     33\u001b[0m \u001b[0mprint\u001b[0m\u001b[0;34m(\u001b[0m\u001b[0mtarget\u001b[0m\u001b[0;34m)\u001b[0m\u001b[0;34m\u001b[0m\u001b[0m\n\u001b[0;32m---> 34\u001b[0;31m \u001b[0mdiction\u001b[0m \u001b[0;34m=\u001b[0m \u001b[0mwordCounter\u001b[0m\u001b[0;34m(\u001b[0m\u001b[0mtarget\u001b[0m\u001b[0;34m)\u001b[0m\u001b[0;34m\u001b[0m\u001b[0m\n\u001b[0m\u001b[1;32m     35\u001b[0m \u001b[0;32mfor\u001b[0m \u001b[0mi\u001b[0m \u001b[0;32min\u001b[0m \u001b[0mrange\u001b[0m\u001b[0;34m(\u001b[0m\u001b[0mnumber\u001b[0m\u001b[0;34m)\u001b[0m\u001b[0;34m:\u001b[0m\u001b[0;34m\u001b[0m\u001b[0m\n\u001b[1;32m     36\u001b[0m     \u001b[0mprint\u001b[0m\u001b[0;34m(\u001b[0m\u001b[0mdiction\u001b[0m\u001b[0;34m[\u001b[0m\u001b[0mi\u001b[0m\u001b[0;34m]\u001b[0m\u001b[0;34m)\u001b[0m\u001b[0;34m\u001b[0m\u001b[0m\n",
      "\u001b[0;32m<ipython-input-300-0e90202c49dc>\u001b[0m in \u001b[0;36mwordCounter\u001b[0;34m(file_name)\u001b[0m\n\u001b[1;32m     16\u001b[0m \u001b[0;32mdef\u001b[0m \u001b[0mwordCounter\u001b[0m\u001b[0;34m(\u001b[0m\u001b[0mfile_name\u001b[0m\u001b[0;34m)\u001b[0m\u001b[0;34m:\u001b[0m\u001b[0;34m\u001b[0m\u001b[0m\n\u001b[1;32m     17\u001b[0m     \u001b[0mdictio\u001b[0m \u001b[0;34m=\u001b[0m \u001b[0;34m{\u001b[0m\u001b[0;34m}\u001b[0m\u001b[0;34m\u001b[0m\u001b[0m\n\u001b[0;32m---> 18\u001b[0;31m     \u001b[0mf\u001b[0m \u001b[0;34m=\u001b[0m \u001b[0mopen\u001b[0m\u001b[0;34m(\u001b[0m\u001b[0mfile_name\u001b[0m\u001b[0;34m,\u001b[0m \u001b[0;34m'r'\u001b[0m\u001b[0;34m,\u001b[0m\u001b[0mencoding\u001b[0m\u001b[0;34m=\u001b[0m\u001b[0;34m'utf-8'\u001b[0m\u001b[0;34m,\u001b[0m \u001b[0merrors\u001b[0m\u001b[0;34m=\u001b[0m\u001b[0;34m'ignore'\u001b[0m\u001b[0;34m)\u001b[0m\u001b[0;34m\u001b[0m\u001b[0m\n\u001b[0m\u001b[1;32m     19\u001b[0m     \u001b[0;32mfor\u001b[0m \u001b[0mline\u001b[0m \u001b[0;32min\u001b[0m \u001b[0mf\u001b[0m\u001b[0;34m.\u001b[0m\u001b[0mreadlines\u001b[0m\u001b[0;34m(\u001b[0m\u001b[0;34m)\u001b[0m\u001b[0;34m:\u001b[0m\u001b[0;34m\u001b[0m\u001b[0m\n\u001b[1;32m     20\u001b[0m         \u001b[0mline\u001b[0m \u001b[0;34m=\u001b[0m \u001b[0mline\u001b[0m\u001b[0;34m.\u001b[0m\u001b[0mstrip\u001b[0m\u001b[0;34m(\u001b[0m\u001b[0;34m)\u001b[0m\u001b[0;34m\u001b[0m\u001b[0m\n",
      "\u001b[0;31mFileNotFoundError\u001b[0m: [Errno 2] No such file or directory: '-f'"
     ]
    }
   ],
   "source": [
    "# write trial code here then create a file in the script folder and run it\n",
    "\n"
   ]
  },
  {
   "cell_type": "code",
   "execution_count": 347,
   "metadata": {
    "collapsed": false
   },
   "outputs": [
    {
     "name": "stdout",
     "output_type": "stream",
     "text": [
      "('the', 2330)\r\n",
      "('and', 1260)\r\n",
      "('he', 1137)\r\n",
      "('of', 547)\r\n",
      "('it', 479)\r\n",
      "('to', 458)\r\n",
      "('his', 446)\r\n",
      "('\"', 441)\r\n",
      "('was', 436)\r\n",
      "('i', 406)\r\n",
      "('a', 397)\r\n",
      "('in', 365)\r\n",
      "('that', 296)\r\n",
      "('fish', 280)\r\n",
      "('man', 268)\r\n",
      "('old', 252)\r\n",
      "('him', 230)\r\n",
      "('but', 215)\r\n",
      "('with', 205)\r\n",
      "('had', 203)\r\n"
     ]
    }
   ],
   "source": [
    "!python wordCounter.py oldmanandthesea.txt 20"
   ]
  },
  {
   "cell_type": "code",
   "execution_count": 350,
   "metadata": {
    "collapsed": false
   },
   "outputs": [
    {
     "name": "stdout",
     "output_type": "stream",
     "text": [
      "('the', 40375)\r\n",
      "('of', 19899)\r\n",
      "('and', 14737)\r\n",
      "('a', 14287)\r\n",
      "('to', 13617)\r\n",
      "('in', 11091)\r\n",
      "('he', 9484)\r\n",
      "('was', 8607)\r\n",
      "('that', 7657)\r\n",
      "('\"', 6629)\r\n",
      "('his', 6434)\r\n",
      "('it', 6392)\r\n",
      "('had', 6171)\r\n",
      "('is', 6115)\r\n",
      "('which', 5126)\r\n",
      "('with', 4512)\r\n",
      "('on', 4443)\r\n",
      "('at', 4025)\r\n",
      "('this', 3906)\r\n",
      "('not', 3772)\r\n",
      "('you', 3396)\r\n",
      "('one', 3286)\r\n",
      "('as', 3231)\r\n",
      "('i', 3104)\r\n",
      "('for', 2934)\r\n",
      "('him', 2932)\r\n",
      "('have', 2747)\r\n",
      "('her', 2626)\r\n",
      "('there', 2552)\r\n",
      "('who', 2483)\r\n",
      "('from', 2436)\r\n",
      "('all', 2431)\r\n",
      "('she', 2390)\r\n",
      "('be', 2365)\r\n",
      "('by', 2359)\r\n",
      "('are', 2123)\r\n",
      "('an', 2097)\r\n",
      "('they', 2072)\r\n",
      "('s', 2064)\r\n",
      "('man', 1963)\r\n",
      "('but', 1945)\r\n",
      "('no', 1859)\r\n",
      "('were', 1821)\r\n",
      "('said', 1793)\r\n",
      "('been', 1516)\r\n",
      "('what', 1493)\r\n",
      "('when', 1341)\r\n",
      "('marius', 1331)\r\n",
      "('their', 1246)\r\n",
      "('we', 1232)\r\n",
      "('will', 1207)\r\n",
      "('two', 1172)\r\n",
      "('jean', 1166)\r\n",
      "('me', 1144)\r\n",
      "('so', 1123)\r\n",
      "('more', 1121)\r\n",
      "('valjean', 1118)\r\n",
      "('himself', 1083)\r\n",
      "('my', 1075)\r\n",
      "('has', 1070)\r\n",
      "('them', 1066)\r\n",
      "('would', 1044)\r\n",
      "('then', 1010)\r\n",
      "('--', 1000)\r\n",
      "('these', 988)\r\n",
      "('into', 987)\r\n",
      "('out', 984)\r\n",
      "('cosette', 984)\r\n",
      "('did', 978)\r\n",
      "('little', 960)\r\n",
      "('like', 956)\r\n",
      "('or', 952)\r\n",
      "('m', 938)\r\n",
      "('very', 909)\r\n",
      "('up', 909)\r\n",
      "('other', 904)\r\n",
      "('its', 893)\r\n",
      "('old', 867)\r\n",
      "('than', 866)\r\n",
      "('do', 850)\r\n",
      "('made', 779)\r\n",
      "('only', 776)\r\n",
      "('some', 771)\r\n",
      "('time', 757)\r\n",
      "('chapter', 744)\r\n",
      "('your', 735)\r\n",
      "('good', 728)\r\n",
      "('those', 724)\r\n",
      "('nothing', 717)\r\n",
      "('without', 696)\r\n",
      "('if', 683)\r\n",
      "('day', 680)\r\n",
      "('could', 674)\r\n",
      "('rue', 658)\r\n",
      "('about', 639)\r\n",
      "('\"i', 607)\r\n",
      "('men', 599)\r\n",
      "('say', 587)\r\n",
      "('de', 583)\r\n",
      "('any', 575)\r\n"
     ]
    }
   ],
   "source": [
    "!python wordCounter.py les_miserables.txt 100"
   ]
  },
  {
   "cell_type": "markdown",
   "metadata": {
    "collapsed": false
   },
   "source": [
    "## Regular Expressions\n",
    "Basic and intermediate functions for working with strings have been covered.\n",
    "\n",
    "To fully unleash the power of strings manipulation, it's necessary to learn regular expressions.\n",
    "\n",
    "### Concept\n",
    "A regular expression is a special text string for describing a set of strings. This \"special string\" is formally called a **pattern**. Hence, a regular expression is a pattern that describes a set of strings.\n",
    "\n",
    "The goal of using regular expression is extracting specific characters from text by describing its pattern.\n",
    "\n",
    "### Pattern\n",
    "For example, both **gray** and **grey** match the pattern **gr.y** in which the dot . refers to an arbitrary character."
   ]
  },
  {
   "cell_type": "markdown",
   "metadata": {},
   "source": [
    "<code>\n",
    "Identifiers:\n",
    "\n",
    "\\d = any number\n",
    "\\D = anything but a number\n",
    "\\s = space\n",
    "\\S = anything but a space\n",
    "\\w = any letter\n",
    "\\W = anything but a letter\n",
    ". = any character, except for a new line\n",
    "\\b = space around whole words\n",
    "\\\\. = period. must use backslash, because . normally means any character.\n",
    "\n",
    "Modifiers:\n",
    "\n",
    "{1,3} = for digits, u expect 1-3 counts of digits, or \"places\"\n",
    "\\+ = match 1 or more\n",
    "? = match 0 or 1 repetitions.\n",
    "\\* = match 0 or MORE repetitions\n",
    "$ = matches at the end of string\n",
    "^ = matches start of a string\n",
    "| = matches either/or. Example x|y = will match either x or y\n",
    "[] = range, or \"variance\"\n",
    "{x} = expect to see this amount of the preceding .\n",
    "{x,y} = expect to see this x-y amounts of the precedng \n",
    "\n",
    "White Space Charts:\n",
    "\n",
    "\\n = new line\n",
    "\\s = space\n",
    "\\t = tab\n",
    "\\e = escape\n",
    "\\f = form feed\n",
    "\\r = carriage return\n",
    "\n",
    "Characters to REMEMBER TO ESCAPE IF USED!\n",
    "\n",
    ". + * ? [ ] $ ^ ( ) { } | \\\n",
    "\n",
    "Brackets:\n",
    "\n",
    "[] = quant[ia]tative = will find either quantitative, or quantatative.\n",
    "[a-z] = return any lowercase letter a-z\n",
    "[1-5a-qA-Z] = return all numbers 1-5, lowercase letters a-q and uppercase A-Z\n",
    "</code>\n",
    "\n",
    "## re\n",
    "The library **re** is used to implement regular expressions in python."
   ]
  },
  {
   "cell_type": "code",
   "execution_count": 8,
   "metadata": {
    "collapsed": true
   },
   "outputs": [],
   "source": [
    "import re"
   ]
  },
  {
   "cell_type": "code",
   "execution_count": 9,
   "metadata": {
    "collapsed": false
   },
   "outputs": [
    {
     "name": "stdout",
     "output_type": "stream",
     "text": [
      "Help on function search in module re:\n",
      "\n",
      "search(pattern, string, flags=0)\n",
      "    Scan through string looking for a match to the pattern, returning\n",
      "    a match object, or None if no match was found.\n",
      "\n"
     ]
    }
   ],
   "source": [
    "help(re.search)"
   ]
  },
  {
   "cell_type": "code",
   "execution_count": 10,
   "metadata": {
    "collapsed": false
   },
   "outputs": [
    {
     "name": "stdout",
     "output_type": "stream",
     "text": [
      "<_sre.SRE_Match object; span=(0, 2), match='Hi'>\n"
     ]
    }
   ],
   "source": [
    "raw_string = 'Hi, how are you today?'\n",
    "print (re.search('Hi', raw_string))"
   ]
  },
  {
   "cell_type": "code",
   "execution_count": 11,
   "metadata": {
    "collapsed": false
   },
   "outputs": [
    {
     "name": "stdout",
     "output_type": "stream",
     "text": [
      "None\n"
     ]
    }
   ],
   "source": [
    "print (re.search('Hello', raw_string))"
   ]
  },
  {
   "cell_type": "code",
   "execution_count": 15,
   "metadata": {
    "collapsed": false
   },
   "outputs": [
    {
     "data": {
      "text/plain": [
       "True"
      ]
     },
     "execution_count": 15,
     "metadata": {},
     "output_type": "execute_result"
    }
   ],
   "source": [
    "s = re.search('Hi', raw_string)\n",
    "s != None"
   ]
  },
  {
   "cell_type": "code",
   "execution_count": 13,
   "metadata": {
    "collapsed": false
   },
   "outputs": [
    {
     "name": "stdout",
     "output_type": "stream",
     "text": [
      "None\n"
     ]
    }
   ],
   "source": [
    "s = re.search('Hey', raw_string)\n",
    "s != None\n",
    "print(s)"
   ]
  },
  {
   "cell_type": "code",
   "execution_count": 16,
   "metadata": {
    "collapsed": false
   },
   "outputs": [
    {
     "name": "stdout",
     "output_type": "stream",
     "text": [
      "0\n",
      "2\n",
      "(0, 2)\n"
     ]
    }
   ],
   "source": [
    "print (s.start()) # the starting position of of the matched string\n",
    "print (s.end())   # the ending position index of the matched string\n",
    "print (s.span())  # a tuple containing the (start, end) positions of the matched string"
   ]
  },
  {
   "cell_type": "code",
   "execution_count": null,
   "metadata": {
    "collapsed": false
   },
   "outputs": [],
   "source": [
    "print( s.group() )# the matched string\n",
    "print( raw_string[s.start():s.end()] )# same"
   ]
  },
  {
   "cell_type": "markdown",
   "metadata": {},
   "source": [
    "## Using Identifiers"
   ]
  },
  {
   "cell_type": "code",
   "execution_count": 329,
   "metadata": {
    "collapsed": false
   },
   "outputs": [
    {
     "name": "stdout",
     "output_type": "stream",
     "text": [
      "True\n",
      "True\n",
      "True\n",
      "True\n",
      "False\n",
      "False\n"
     ]
    }
   ],
   "source": [
    "#     . = any character, except for a new line\n",
    "\n",
    "print (re.search('a.', 'aa') != None)\n",
    "print (re.search('a.', 'ab') != None)\n",
    "print (re.search('a.', 'a1') != None)\n",
    "print (re.search('a.', 'a#') != None)\n",
    "print (re.search('a.', 'a') != None)\n",
    "print (re.search('a.', 'a\\n') != None)"
   ]
  },
  {
   "cell_type": "code",
   "execution_count": 17,
   "metadata": {
    "collapsed": false
   },
   "outputs": [
    {
     "name": "stdout",
     "output_type": "stream",
     "text": [
      "True\n",
      "True\n",
      "False\n",
      "True\n",
      "<_sre.SRE_Match object; span=(1, 4), match='bab'>\n"
     ]
    }
   ],
   "source": [
    "#      ? = match 0 or 1 repetitions.\n",
    "\n",
    "print (re.search('ba?b', 'bb') != None )   # match\n",
    "print (re.search('ba?b', 'bab') != None )  # match\n",
    "print (re.search('ba?b', 'baab') != None ) # does not match\n",
    "print (re.search('ba?b', 'abab') != None )\n",
    "print (re.search('ba??b', 'abab'))"
   ]
  },
  {
   "cell_type": "code",
   "execution_count": 331,
   "metadata": {
    "collapsed": false
   },
   "outputs": [
    {
     "name": "stdout",
     "output_type": "stream",
     "text": [
      "False\n",
      "True\n",
      "True\n",
      "True\n",
      "True\n"
     ]
    }
   ],
   "source": [
    "#     + = match 1 or more\n",
    "\n",
    "print( re.search('ba+b', 'bb') != None  )  # does not match\n",
    "print( re.search('ba+b', 'bab') != None   )# match\n",
    "print( re.search('ba+b', 'baab') != None  )# match\n",
    "print( re.search('ba+b', 'baaaab') != None  )# match\n",
    "print( re.search('ba+b', 'baaaaaab') != None ) # match"
   ]
  },
  {
   "cell_type": "code",
   "execution_count": 332,
   "metadata": {
    "collapsed": false
   },
   "outputs": [
    {
     "name": "stdout",
     "output_type": "stream",
     "text": [
      "True\n",
      "True\n",
      "True\n",
      "False\n"
     ]
    }
   ],
   "source": [
    "#.       * = match 0 or MORE repetitions\n",
    "\n",
    "print (re.search('ba*b', 'bb') != None )   # match\n",
    "print (re.search('ba*b', 'bab') != None )  # match\n",
    "print (re.search('ba*b', 'baaaaaab') != None ) # match\n",
    "print (re.search('ba*b', 'baaagb') != None )"
   ]
  },
  {
   "cell_type": "code",
   "execution_count": 333,
   "metadata": {
    "collapsed": false
   },
   "outputs": [
    {
     "name": "stdout",
     "output_type": "stream",
     "text": [
      "True\n",
      "True\n",
      "True\n",
      "False\n",
      "False\n"
     ]
    }
   ],
   "source": [
    "print( re.search('ba{1,3}b', 'bab') != None    )# match\n",
    "print( re.search('ba{1,3}b', 'baab') != None  ) # match\n",
    "print( re.search('ba{1,3}b', 'baaab') != None)  # match\n",
    "print( re.search('ba{1,3}b', 'bb') != None     )# does not match\n",
    "print( re.search('ba{1,3}b', 'baaaab') != None) # does not match\n"
   ]
  },
  {
   "cell_type": "code",
   "execution_count": 334,
   "metadata": {
    "collapsed": false
   },
   "outputs": [
    {
     "name": "stdout",
     "output_type": "stream",
     "text": [
      "True\n",
      "True\n",
      "False\n"
     ]
    }
   ],
   "source": [
    "#      ^ = matches start of a string\n",
    "\n",
    "print( re.search('^a', 'abc') != None )   # match\n",
    "print( re.search('^a', 'abcde') != None)  # match\n",
    "print( re.search('^a', ' abcde') != None) # does not match"
   ]
  },
  {
   "cell_type": "code",
   "execution_count": 335,
   "metadata": {
    "collapsed": false
   },
   "outputs": [
    {
     "name": "stdout",
     "output_type": "stream",
     "text": [
      "True\n",
      "True\n",
      "False\n"
     ]
    }
   ],
   "source": [
    "#.      $ = matches at the end of string\n",
    "\n",
    "print (re.search('a$', 'aba') != None )   # match\n",
    "print (re.search('a$', 'abcba') != None)  # match\n",
    "print (re.search('a$', ' aba ') != None ) # does not match"
   ]
  },
  {
   "cell_type": "code",
   "execution_count": 336,
   "metadata": {
    "collapsed": false
   },
   "outputs": [
    {
     "name": "stdout",
     "output_type": "stream",
     "text": [
      "True\n",
      "True\n",
      "True\n",
      "False\n",
      "False\n",
      "True\n",
      "False\n",
      "True\n"
     ]
    }
   ],
   "source": [
    "print (re.search('^a.a$', 'aba') != None )   # match\n",
    "print (re.search('^a.a$', 'a a') != None  )  # match\n",
    "print (re.search('^a.a$', 'a.a') != None   ) # match\n",
    "\n",
    "print (re.search('^a.a$', 'bba') != None  )  # does not match\n",
    "print (re.search('^a.a$', 'abba') != None  ) \n",
    "print (re.search('^a.*a$', 'abba') != None  )\n",
    "print (re.search('^a.?a$', 'abba') != None  )\n",
    "print (re.search('^a.{1,3}a$', 'abba') != None  )#match"
   ]
  },
  {
   "cell_type": "markdown",
   "metadata": {},
   "source": [
    "### brackets\n",
    "\n",
    "[] is used for specifying a set of characters to match. For example, [123abc] will match any of the characters 1, 2, 3, a, b, or c ; this is the same as [1-3a-c], which uses a range to express the same set of characters. Further more [a-z] matches all the lower letters, while [0-9] matches all the numbers."
   ]
  },
  {
   "cell_type": "code",
   "execution_count": 337,
   "metadata": {
    "collapsed": false
   },
   "outputs": [
    {
     "name": "stdout",
     "output_type": "stream",
     "text": [
      "False\n",
      "True\n",
      "True\n",
      "True\n",
      "True\n"
     ]
    }
   ],
   "source": [
    "print (re.search('[123abc]', 'defg')  != None)   # does not match\n",
    "print (re.search('[123abc]', '1defg') != None )  # match\n",
    "print (re.search('[1-3a-c]', '2defg') != None  ) # match\n",
    "print (re.search('[123abc]', 'adefg') != None )  # match\n",
    "print (re.search('[1-3a-c]', 'bdefg') != None )  # match"
   ]
  },
  {
   "cell_type": "markdown",
   "metadata": {},
   "source": [
    "### parentheses\n",
    "\n",
    "() is very similar to the mathematical meaning, they group together the expressions contained inside them, and you can repeat the contents of a group with a repeating qualifier.\n",
    "For example, the pattern (abc){2,3} matches abc 2 or 3 times."
   ]
  },
  {
   "cell_type": "code",
   "execution_count": 340,
   "metadata": {
    "collapsed": false
   },
   "outputs": [
    {
     "name": "stdout",
     "output_type": "stream",
     "text": [
      "False\n",
      "True\n",
      "True\n",
      "True\n",
      "False\n"
     ]
    }
   ],
   "source": [
    "print (re.search('(abc){2,3}', 'abc')  != None  )       # does not match\n",
    "print (re.search('(abc){2,3}', 'abcabc')  != None)      # match\n",
    "print (re.search('(abc){2,3}', 'abcabcabc')  != None )  # match\n",
    "print (re.search('(abc){2}', 'abcabcabc')  != None )  # \n",
    "print (re.search('^(abc){1,2}$', 'abcabcabc')  != None )  # "
   ]
  },
  {
   "cell_type": "code",
   "execution_count": 341,
   "metadata": {
    "collapsed": false
   },
   "outputs": [
    {
     "data": {
      "text/plain": [
       "True"
      ]
     },
     "execution_count": 341,
     "metadata": {},
     "output_type": "execute_result"
    }
   ],
   "source": [
    "re.search('(abc){2,3}', 4*'abc')  != None"
   ]
  },
  {
   "cell_type": "code",
   "execution_count": 342,
   "metadata": {
    "collapsed": false
   },
   "outputs": [
    {
     "data": {
      "text/plain": [
       "False"
      ]
     },
     "execution_count": 342,
     "metadata": {},
     "output_type": "execute_result"
    }
   ],
   "source": [
    "re.search('^(abc){2,3}$', 4*'abc')  != None"
   ]
  },
  {
   "cell_type": "code",
   "execution_count": 343,
   "metadata": {
    "collapsed": false
   },
   "outputs": [
    {
     "name": "stdout",
     "output_type": "stream",
     "text": [
      "True\n",
      "True\n",
      "False\n"
     ]
    }
   ],
   "source": [
    "print(re.search('[ab]', 'a') != None)   # match\n",
    "print(re.search('[ab]', 'b') != None)   # match\n",
    "print(re.search('[ab]', 'c') != None)  # does not match"
   ]
  },
  {
   "cell_type": "markdown",
   "metadata": {},
   "source": [
    "### vertical bar\n",
    "`|` is a logical operator. For examples, `a|b` matches `a` and `b`, which is similar to `[ab]`.\n",
    "\n",
    "`abc|123` matches `abc` or `123`, while `[abc123]` matches any single characters in `a, b, c, 1, 2, 3`."
   ]
  },
  {
   "cell_type": "code",
   "execution_count": 344,
   "metadata": {
    "collapsed": false
   },
   "outputs": [
    {
     "name": "stdout",
     "output_type": "stream",
     "text": [
      "False\n",
      "False\n",
      "True\n",
      "True\n"
     ]
    }
   ],
   "source": [
    "print (re.search('abc|123', 'a') != None)   # does not match\n",
    "print (re.search('abc|123', '1') != None )  # does not match\n",
    "print (re.search('abc|123', '123') != None) # match\n",
    "print (re.search('abc|123', 'abc') != None) # match"
   ]
  },
  {
   "cell_type": "markdown",
   "metadata": {},
   "source": [
    "### backslash\n",
    "To match exactly ?, it is necessary to add a backslash \\?.\n",
    "\n",
    "Otherwise, the character ? will be treated as an identifier. ? matches a character(group) either once or zero times."
   ]
  },
  {
   "cell_type": "code",
   "execution_count": 345,
   "metadata": {
    "collapsed": false
   },
   "outputs": [
    {
     "name": "stdout",
     "output_type": "stream",
     "text": [
      "True\n"
     ]
    }
   ],
   "source": [
    "print (re.search('\\?', 'Hi, how are you today?') != None)"
   ]
  },
  {
   "cell_type": "code",
   "execution_count": 346,
   "metadata": {
    "collapsed": false
   },
   "outputs": [
    {
     "name": "stdout",
     "output_type": "stream",
     "text": [
      "True\n"
     ]
    }
   ],
   "source": [
    "print (re.search('y?', 'Hi, how are you today?') != None)"
   ]
  },
  {
   "cell_type": "markdown",
   "metadata": {},
   "source": [
    "## Useful functions\n",
    "* **re.split(pattern, string)**: Split the string into a list by the pattern.\n",
    "* **re.sub(pattern, replace, string)**: Replace the substrings in the string that matches the pattern with the argument replace.\n",
    "* **re.findall(pattern, string)**: Find all substrings where the pattern matches, and returns them as a list.\n",
    "\n",
    "In the base library, the strings already have methods like `str.split` and `str.replace` do similar works.\n",
    "\n",
    "`str.split` is similar to `re.split`, `str.replace` is similar to `re.sub`.\n",
    "\n",
    "Since regular expressions can be used in the `re` module, `re.split` and `re.sub` are much more powerful!\n",
    "\n",
    "## re.sub"
   ]
  },
  {
   "cell_type": "code",
   "execution_count": 18,
   "metadata": {
    "collapsed": true
   },
   "outputs": [],
   "source": [
    "s = '''The re module was added in Python 1.5, \n",
    "and provides Perl-style regular expression patterns. \n",
    "Earlier versions of Python came with the regex module, \n",
    "which provided Emacs-style patterns. \n",
    "The regex module was removed completely in Python 2.5.'''"
   ]
  },
  {
   "cell_type": "code",
   "execution_count": 19,
   "metadata": {
    "collapsed": false
   },
   "outputs": [
    {
     "data": {
      "text/plain": [
       "'The re module was added in Python 1.5, \\nand provides Perl-style regular expression patterns. \\nEarlier versions of Python came with the regex module, \\nwhich provided Emacs-style patterns. \\nThe regex module was removed completely in Python 2.5.'"
      ]
     },
     "execution_count": 19,
     "metadata": {},
     "output_type": "execute_result"
    }
   ],
   "source": [
    "s"
   ]
  },
  {
   "cell_type": "markdown",
   "metadata": {},
   "source": [
    "#### Problem\n",
    "Suppose the goal is to split this sentence into a list in which each element is a word. The separators are dot(.), dash(-), comma(,) and blank space( ).\n",
    "\n",
    "#### Solution\n",
    "How to solve the problem in the base library?\n",
    "\n",
    "- Since we can not split a string by multiple separators, an alternative way is replacing all the separators with blank space.\n",
    "- Split the replaced the text with blank space.\n",
    "\n",
    "This technique was used in the script wordcounter.py."
   ]
  },
  {
   "cell_type": "code",
   "execution_count": 20,
   "metadata": {
    "collapsed": true
   },
   "outputs": [
    {
     "data": {
      "text/plain": [
       "['The',\n",
       " 're',\n",
       " 'module',\n",
       " 'was',\n",
       " 'added',\n",
       " 'in',\n",
       " 'Python',\n",
       " '1',\n",
       " '5',\n",
       " '',\n",
       " '',\n",
       " 'and',\n",
       " 'provides',\n",
       " 'Perl',\n",
       " 'style',\n",
       " 'regular',\n",
       " 'expression',\n",
       " 'patterns',\n",
       " '',\n",
       " '',\n",
       " 'Earlier',\n",
       " 'versions',\n",
       " 'of',\n",
       " 'Python',\n",
       " 'came',\n",
       " 'with',\n",
       " 'the',\n",
       " 'regex',\n",
       " 'module',\n",
       " '',\n",
       " '',\n",
       " 'which',\n",
       " 'provided',\n",
       " 'Emacs',\n",
       " 'style',\n",
       " 'patterns',\n",
       " '',\n",
       " '',\n",
       " 'The',\n",
       " 'regex',\n",
       " 'module',\n",
       " 'was',\n",
       " 'removed',\n",
       " 'completely',\n",
       " 'in',\n",
       " 'Python',\n",
       " '2',\n",
       " '5',\n",
       " '']"
      ]
     },
     "execution_count": 20,
     "metadata": {},
     "output_type": "execute_result"
    }
   ],
   "source": [
    "s2 = s\n",
    "for i in [',', '.', '-', '\\n']:\n",
    "    s2 = s2.replace(i, ' ')\n",
    "s2.split(' ')"
   ]
  },
  {
   "cell_type": "markdown",
   "metadata": {},
   "source": [
    "Using regular expression, all the separators can be replaced at the same time."
   ]
  },
  {
   "cell_type": "code",
   "execution_count": null,
   "metadata": {
    "collapsed": false
   },
   "outputs": [],
   "source": [
    "s3 = s\n",
    "s3 = re.sub('[\\n,.-]', ' ', s3)\n",
    "print (s3)\n",
    "re.split(' +', s3) \n",
    "# since there are empty characters in the result,\n",
    "# \\ we split it by one or more blank space"
   ]
  },
  {
   "cell_type": "markdown",
   "metadata": {},
   "source": [
    "### re.split\n",
    "A simpler way is using regular expression to split the text by multiple separators directly."
   ]
  },
  {
   "cell_type": "code",
   "execution_count": 21,
   "metadata": {
    "collapsed": true
   },
   "outputs": [
    {
     "data": {
      "text/plain": [
       "['The',\n",
       " 're',\n",
       " 'module',\n",
       " 'was',\n",
       " 'added',\n",
       " 'in',\n",
       " 'Python',\n",
       " '1',\n",
       " '5',\n",
       " 'and',\n",
       " 'provides',\n",
       " 'Perl',\n",
       " 'style',\n",
       " 'regular',\n",
       " 'expression',\n",
       " 'patterns',\n",
       " 'Earlier',\n",
       " 'versions',\n",
       " 'of',\n",
       " 'Python',\n",
       " 'came',\n",
       " 'with',\n",
       " 'the',\n",
       " 'regex',\n",
       " 'module',\n",
       " 'which',\n",
       " 'provided',\n",
       " 'Emacs',\n",
       " 'style',\n",
       " 'patterns',\n",
       " 'The',\n",
       " 'regex',\n",
       " 'module',\n",
       " 'was',\n",
       " 'removed',\n",
       " 'completely',\n",
       " 'in',\n",
       " 'Python',\n",
       " '2',\n",
       " '5',\n",
       " '']"
      ]
     },
     "execution_count": 21,
     "metadata": {},
     "output_type": "execute_result"
    }
   ],
   "source": [
    "re.split('[\\n ,\\.-]+', s)"
   ]
  },
  {
   "cell_type": "markdown",
   "metadata": {},
   "source": [
    "### re.findall\n",
    "Similar to **`re.split`**, **`re.findall`** also works well in this case.\n",
    "\n",
    "Select letters in the string s by using **`re.findall`**."
   ]
  },
  {
   "cell_type": "code",
   "execution_count": 22,
   "metadata": {
    "collapsed": true
   },
   "outputs": [
    {
     "data": {
      "text/plain": [
       "['The',\n",
       " 're',\n",
       " 'module',\n",
       " 'was',\n",
       " 'added',\n",
       " 'in',\n",
       " 'Python',\n",
       " 'and',\n",
       " 'provides',\n",
       " 'Perl',\n",
       " 'style',\n",
       " 'regular',\n",
       " 'expression',\n",
       " 'patterns',\n",
       " 'Earlier',\n",
       " 'versions',\n",
       " 'of',\n",
       " 'Python',\n",
       " 'came',\n",
       " 'with',\n",
       " 'the',\n",
       " 'regex',\n",
       " 'module',\n",
       " 'which',\n",
       " 'provided',\n",
       " 'Emacs',\n",
       " 'style',\n",
       " 'patterns',\n",
       " 'The',\n",
       " 'regex',\n",
       " 'module',\n",
       " 'was',\n",
       " 'removed',\n",
       " 'completely',\n",
       " 'in',\n",
       " 'Python']"
      ]
     },
     "execution_count": 22,
     "metadata": {},
     "output_type": "execute_result"
    }
   ],
   "source": [
    "re.findall('[a-zA-Z]+', s) # if you want number too, run re.findall('[a-zA-Z0-9]+', s)"
   ]
  },
  {
   "cell_type": "markdown",
   "metadata": {},
   "source": [
    "### Special sequence in regular expression\n",
    "\n",
    "There are sequences that have special meaning in regular expressions.\n",
    "\n",
    "* \\d: Matches any decimal digit; this is equivalent to the class [0-9].\n",
    "* \\D: Matches any non-digit character; this is equivalent to the class [^0-9].\n",
    "* \\w: Matches any alphanumeric character; this is equivalent to the class [a-zA-Z0-9_].\n",
    "* \\W: Matches any non-alphanumeric character; this is equivalent to the class [^a-zA-Z0-9_].\n",
    "* \\s: Matches any whitespace character; this is equivalent to the class [ \\t\\n\\r\\f\\v].\n",
    "* \\S: Matches any non-whitespace character; this is equivalent to the class [^ \\t\\n\\r\\f\\v].\n",
    "* \\t: tab,\n",
    "* \\v: vertical tab.\n",
    "* \\r: Carraige return. Move to the leading end (left) of the current line.\n",
    "* \\n: Line Feed. Move to next line, staying in the same column. Prior to Unix, usually used only after CR or LF.\n",
    "* \\f: Form feed. Feed paper to a pre-established position on the form, usually top of the page.\n",
    "\n",
    "Reference: http://regexlib.com/CheatSheet.aspx?AspxAutoDetectCookieSupport=1\n",
    "\n",
    "The simplest way to solve the problem is as follows:"
   ]
  },
  {
   "cell_type": "code",
   "execution_count": 23,
   "metadata": {
    "collapsed": true
   },
   "outputs": [
    {
     "data": {
      "text/plain": [
       "['The',\n",
       " 're',\n",
       " 'module',\n",
       " 'was',\n",
       " 'added',\n",
       " 'in',\n",
       " 'Python',\n",
       " '1',\n",
       " '5',\n",
       " 'and',\n",
       " 'provides',\n",
       " 'Perl',\n",
       " 'style',\n",
       " 'regular',\n",
       " 'expression',\n",
       " 'patterns',\n",
       " 'Earlier',\n",
       " 'versions',\n",
       " 'of',\n",
       " 'Python',\n",
       " 'came',\n",
       " 'with',\n",
       " 'the',\n",
       " 'regex',\n",
       " 'module',\n",
       " 'which',\n",
       " 'provided',\n",
       " 'Emacs',\n",
       " 'style',\n",
       " 'patterns',\n",
       " 'The',\n",
       " 'regex',\n",
       " 'module',\n",
       " 'was',\n",
       " 'removed',\n",
       " 'completely',\n",
       " 'in',\n",
       " 'Python',\n",
       " '2',\n",
       " '5']"
      ]
     },
     "execution_count": 23,
     "metadata": {},
     "output_type": "execute_result"
    }
   ],
   "source": [
    "re.findall('\\w+', s) # same as re.findall(`[a-zA-Z0-9_]+`, s)"
   ]
  },
  {
   "cell_type": "code",
   "execution_count": 28,
   "metadata": {
    "collapsed": true
   },
   "outputs": [
    {
     "data": {
      "text/plain": [
       "['re',\n",
       " 'module',\n",
       " 'was',\n",
       " 'added',\n",
       " 'in',\n",
       " 'and',\n",
       " 'provides',\n",
       " 'style',\n",
       " 'regular',\n",
       " 'expression',\n",
       " 'patterns',\n",
       " 'versions',\n",
       " 'of',\n",
       " 'came',\n",
       " 'with',\n",
       " 'the',\n",
       " 'regex',\n",
       " 'module',\n",
       " 'which',\n",
       " 'provided',\n",
       " 'style',\n",
       " 'patterns',\n",
       " 'regex',\n",
       " 'module',\n",
       " 'was',\n",
       " 'removed',\n",
       " 'completely',\n",
       " 'in']"
      ]
     },
     "execution_count": 28,
     "metadata": {},
     "output_type": "execute_result"
    }
   ],
   "source": [
    "re.findall(r'\\b[a-z]+', s) #Misses the first word because no space before it (The)"
   ]
  },
  {
   "cell_type": "code",
   "execution_count": 27,
   "metadata": {
    "collapsed": true
   },
   "outputs": [
    {
     "data": {
      "text/plain": [
       "['he',\n",
       " 're',\n",
       " 'module',\n",
       " 'was',\n",
       " 'added',\n",
       " 'in',\n",
       " 'ython',\n",
       " 'and',\n",
       " 'provides',\n",
       " 'erl',\n",
       " 'style',\n",
       " 'regular',\n",
       " 'expression',\n",
       " 'patterns',\n",
       " 'arlier',\n",
       " 'versions',\n",
       " 'of',\n",
       " 'ython',\n",
       " 'came',\n",
       " 'with',\n",
       " 'the',\n",
       " 'regex',\n",
       " 'module',\n",
       " 'which',\n",
       " 'provided',\n",
       " 'macs',\n",
       " 'style',\n",
       " 'patterns',\n",
       " 'he',\n",
       " 'regex',\n",
       " 'module',\n",
       " 'was',\n",
       " 'removed',\n",
       " 'completely',\n",
       " 'in',\n",
       " 'ython']"
      ]
     },
     "execution_count": 27,
     "metadata": {},
     "output_type": "execute_result"
    }
   ],
   "source": [
    "re.findall('[a-z]+', s)"
   ]
  },
  {
   "cell_type": "markdown",
   "metadata": {},
   "source": [
    "### wordCount\n",
    "\n",
    "Rewrite the function `wordCount`."
   ]
  },
  {
   "cell_type": "code",
   "execution_count": 32,
   "metadata": {
    "collapsed": true
   },
   "outputs": [],
   "source": [
    "import re\n",
    "def wordCount(x, number=False):\n",
    "    '''\n",
    "    x: string to count\n",
    "    number: whether to count the numbers\n",
    "    '''\n",
    "    ## to lower and find words\n",
    "    x = x.lower()\n",
    "    if number:\n",
    "        word_list = re.findall('\\w+', x)\n",
    "    else:\n",
    "        word_list = re.findall('[a-zA-Z]+', x)\n",
    "    ## count and return\n",
    "    result = {}\n",
    "    for word in word_list:\n",
    "        if word in result:\n",
    "            result[word] += 1\n",
    "        else:\n",
    "            result[word] = 1\n",
    "    return result "
   ]
  },
  {
   "cell_type": "code",
   "execution_count": 33,
   "metadata": {
    "collapsed": true
   },
   "outputs": [
    {
     "data": {
      "text/plain": [
       "{'added': 1,\n",
       " 'and': 1,\n",
       " 'came': 1,\n",
       " 'completely': 1,\n",
       " 'earlier': 1,\n",
       " 'emacs': 1,\n",
       " 'expression': 1,\n",
       " 'in': 2,\n",
       " 'module': 3,\n",
       " 'of': 1,\n",
       " 'patterns': 2,\n",
       " 'perl': 1,\n",
       " 'provided': 1,\n",
       " 'provides': 1,\n",
       " 'python': 3,\n",
       " 're': 1,\n",
       " 'regex': 2,\n",
       " 'regular': 1,\n",
       " 'removed': 1,\n",
       " 'style': 2,\n",
       " 'the': 3,\n",
       " 'versions': 1,\n",
       " 'was': 2,\n",
       " 'which': 1,\n",
       " 'with': 1}"
      ]
     },
     "execution_count": 33,
     "metadata": {},
     "output_type": "execute_result"
    }
   ],
   "source": [
    "wordCount(s)"
   ]
  },
  {
   "cell_type": "code",
   "execution_count": null,
   "metadata": {
    "collapsed": true
   },
   "outputs": [],
   "source": []
  }
 ],
 "metadata": {
  "kernelspec": {
   "display_name": "Python 3",
   "language": "python",
   "name": "python3"
  }
 },
 "nbformat": 4,
 "nbformat_minor": 0
}
