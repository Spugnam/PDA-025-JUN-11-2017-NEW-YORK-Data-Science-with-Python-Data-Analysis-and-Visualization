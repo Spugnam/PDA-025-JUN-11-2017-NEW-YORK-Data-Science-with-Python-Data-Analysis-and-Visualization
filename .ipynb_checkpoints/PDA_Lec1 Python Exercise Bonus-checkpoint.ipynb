{
 "cells": [
  {
   "cell_type": "code",
   "execution_count": 1,
   "metadata": {
    "collapsed": false
   },
   "outputs": [
    {
     "data": {
      "text/plain": [
       "232169"
      ]
     },
     "execution_count": 1,
     "metadata": {},
     "output_type": "execute_result"
    }
   ],
   "source": [
    "# Question 1\n",
    "# Find the sum of all the multiples of 3 or 5 below 1000.\n",
    "\n",
    "multiples=[]\n",
    "for i in range(1,999):\n",
    "    if i%3 == 0 or i%5 == 0:\n",
    "        multiples.append(i)\n",
    "\n",
    "#print(multiples)\n",
    "sum(multiples)"
   ]
  },
  {
   "cell_type": "code",
   "execution_count": 2,
   "metadata": {
    "collapsed": false
   },
   "outputs": [
    {
     "data": {
      "text/plain": [
       "55"
      ]
     },
     "execution_count": 2,
     "metadata": {},
     "output_type": "execute_result"
    }
   ],
   "source": [
    "def Fib(n):  \n",
    "    \"\"\"calculates Fibonacci number\"\"\"\n",
    "    if n==0:\n",
    "        return 1\n",
    "    if n==1:\n",
    "        return 1\n",
    "    else:\n",
    "        return Fib(n-1)+Fib(n-2)\n",
    "    \n",
    "Fib(9)"
   ]
  },
  {
   "cell_type": "code",
   "execution_count": 20,
   "metadata": {
    "collapsed": false
   },
   "outputs": [
    {
     "name": "stdout",
     "output_type": "stream",
     "text": [
      "[2, 8, 34, 144, 610, 2584, 10946, 46368, 196418, 832040, 3524578]\n"
     ]
    },
    {
     "data": {
      "text/plain": [
       "4613732"
      ]
     },
     "execution_count": 20,
     "metadata": {},
     "output_type": "execute_result"
    }
   ],
   "source": [
    "# Question 2\n",
    "even_Fib = []\n",
    "\n",
    "def Sum_even_fib(n):\n",
    "    i = 0\n",
    "    while Fib(i) < n:\n",
    "        if Fib(i)%2 == 0:\n",
    "            even_Fib.append(Fib(i))\n",
    "        i+=1\n",
    "    print(even_Fib)\n",
    "    return sum(even_Fib)\n",
    "\n",
    "Sum_even_fib(4e6)"
   ]
  },
  {
   "cell_type": "code",
   "execution_count": 245,
   "metadata": {
    "collapsed": false
   },
   "outputs": [
    {
     "name": "stdout",
     "output_type": "stream",
     "text": [
      "[2, 8, 34, 144, 610, 2584, 10946, 46368, 196418, 832040, 3524578]\n"
     ]
    },
    {
     "data": {
      "text/plain": [
       "4613732"
      ]
     },
     "execution_count": 245,
     "metadata": {},
     "output_type": "execute_result"
    }
   ],
   "source": [
    "def Sum_even_fib_optimized(n): #runs in ~half the time compared with version above\n",
    "    even_Fib = []\n",
    "    i = 0\n",
    "    while 1:\n",
    "        accu = Fib(i)\n",
    "        if accu > n:\n",
    "            break;\n",
    "        else:\n",
    "            if accu%2 == 0:\n",
    "                even_Fib.append(accu)\n",
    "        i+=1\n",
    "    print(even_Fib)\n",
    "    return sum(even_Fib)\n",
    "\n",
    "Sum_even_fib_optimized(4e6)"
   ]
  },
  {
   "cell_type": "code",
   "execution_count": 57,
   "metadata": {
    "collapsed": false
   },
   "outputs": [
    {
     "data": {
      "text/plain": [
       "{653, 1069, 16364327459423}"
      ]
     },
     "execution_count": 57,
     "metadata": {},
     "output_type": "execute_result"
    }
   ],
   "source": [
    "# Question 3\n",
    "def prime_decomposition(n):\n",
    "    #Use set (unordered, no repetitions)\n",
    "    primes = set({})\n",
    "    k = 2\n",
    "    while k <= n//k:\n",
    "            if n%k == 0:\n",
    "                primes = primes.union({k})\n",
    "                n=n//k\n",
    "            else:\n",
    "                k+=1\n",
    "    primes = primes.union({n}) #n contains the latest factor -or the original number if prime\n",
    "    return primes\n",
    "\n",
    "prime_decomposition(11423233333342441111)"
   ]
  },
  {
   "cell_type": "code",
   "execution_count": 248,
   "metadata": {
    "collapsed": false
   },
   "outputs": [
    {
     "name": "stdout",
     "output_type": "stream",
     "text": [
      "Best Palindrome: 98344389, i: 9967, j: 9867\n"
     ]
    }
   ],
   "source": [
    "#Question 4\n",
    "\n",
    "def invert_string(string):\n",
    "    return string[len(string):: -1]  #no zero in 2nd argument to grab the first character\n",
    "\n",
    "def pal_productof_3_digits():\n",
    "    current_pal = 2\n",
    "    best_i=0\n",
    "    best_j=0\n",
    "    for i in range(9999):\n",
    "        for j in range(i):\n",
    "            accu = i*j\n",
    "            if str(accu)==invert_string(str(accu)):\n",
    "                if accu > current_pal:\n",
    "                    current_pal=accu\n",
    "                    best_i=i\n",
    "                    best_j=j\n",
    "    print(\"Best Palindrome: %i, i: %i, j: %i\" %(current_pal, best_i, best_j))\n",
    "\n",
    "#invert_string('1')\n",
    "pal_productof_3_digits()"
   ]
  },
  {
   "cell_type": "code",
   "execution_count": 228,
   "metadata": {
    "collapsed": false,
    "scrolled": true
   },
   "outputs": [
    {
     "name": "stdout",
     "output_type": "stream",
     "text": [
      "[2, 4, 5, 2, 5, 2, 1, 5, 3, 1, 9, 3, 4, 5, 6, 6, 3, 3, 2, 2, 2, 3, 4, 5, 6, 7, 5, 8, 8, 8, 8, 8, 8, 8, 8, 8, 8, 8, 8, 8, 8, 8, 8, 8, 8, 8, 8, 8, 8, 8, 8, 8, 8, 8, 8, 13, 134, 1234, 134, 13, 13, 14, 556, 45]\n",
      "[2, 4, 5, 2, 5, 2, 1, 5, 3, 1, 9, 3, 4, 5, 6, 6, 3, 3, 2, 2, 2, 3, 4, 5, 6, 7, 5, 8, 8, 8, 8, 8, 8, 8, 8, 8, 8, 8, 8, 8, 8, 8, 8, 8, 8, 8, 8, 8, 8, 8, 8, 8, 8, 8, 8, 13, 134, 1234, 134, 13, 13, 14, 556, 45]\n"
     ]
    }
   ],
   "source": [
    "#Question 5\n",
    "\n",
    "X = [2,4,5,2,5,2,1,5,3,1,9,3,4,5,6,6,3,3,2,2,2,3,4,5,6,7,5,8,8,8,8,8,8,8,8,8,8,8,8,8,8,8,8,8,8,8,8,8,8,8,8,8,8,8,8,13,134,1234,134,13,13,14,556,45]\n",
    "print(X)\n",
    "Y=[]  #Y=X makes Y and X point to the same list, which doesn't work for my sort algorithm\n",
    "for i in range(0,len(X)-1):\n",
    "    Y.append(X[i])\n",
    "Y[4]=10000\n",
    "print(X)"
   ]
  },
  {
   "cell_type": "code",
   "execution_count": 244,
   "metadata": {
    "collapsed": false
   },
   "outputs": [],
   "source": [
    "def sort(X):   #classic insertion sort\n",
    "    Y=[]\n",
    "    for i in range(0, len(X)):\n",
    "        Y.append(X[i])\n",
    "    for i in range(0, len(X)):\n",
    "        j=i\n",
    "        while j > 0 and Y[j-1] > Y[j]:\n",
    "            temp=Y[j-1]\n",
    "            Y[j-1]=Y[j]\n",
    "            Y[j]=temp\n",
    "            j-=1\n",
    "    return(Y)"
   ]
  },
  {
   "cell_type": "code",
   "execution_count": 231,
   "metadata": {
    "collapsed": false
   },
   "outputs": [
    {
     "name": "stdout",
     "output_type": "stream",
     "text": [
      "8\n",
      "[2, 4, 5, 2, 5, 2, 1, 5, 3, 1, 9, 3, 4, 5, 6, 6, 3, 3, 2, 2, 2, 3, 4, 5, 6, 7, 5, 8, 8, 8, 8, 8, 8, 8, 8, 8, 8, 8, 8, 8, 8, 8, 8, 8, 8, 8, 8, 8, 8, 8, 8, 8, 8, 8, 8, 13, 134, 1234, 134, 13, 13, 14, 556, 45]\n"
     ]
    }
   ],
   "source": [
    "def median(X):\n",
    "    return sort(X)[(len(X)+1)//2]\n",
    "\n",
    "print(median(X))\n",
    "print(X)\n"
   ]
  },
  {
   "cell_type": "code",
   "execution_count": 249,
   "metadata": {
    "collapsed": false
   },
   "outputs": [
    {
     "name": "stdout",
     "output_type": "stream",
     "text": [
      "Median(X)= 8, MAD(X)= 4\n"
     ]
    }
   ],
   "source": [
    "X = [2,12,12,12,12,12,12,12,12,12,12,12,12,12,12,12,12,12,12,12,12,12,12,12,12,12,12,12,12,12,12,12,12,12,4,5,2,8,3,4,5,6,9,7,6,5,6,2,3,4,5,6,7,6,5,4,3,2,2,1,1,3,4,5,6,7,8,9,0,0,9,8,7,6,5,4,3,7,8,9,0,8,1,2,3,4,5,5,2,1,5,3,1,9,3,4,5,6,6,30000000000,3,2,2,2,3,4,5,6,7,5,8,8,8,8,8,8,8,8,8,8,8,8,8,8,8,8,8,8,8,8,8,8,8,8,8,8,8,8,13,134,1234,134,13,13,14,55600000,45]\n",
    "def MAD(X):\n",
    "    temp=[]\n",
    "    for i in range(0,len(X)):\n",
    "        temp.append(X[i])\n",
    "    for i in range (0, len(X)):\n",
    "        temp[i] = abs(temp[i] - median(X))\n",
    "    print(\"Median(X)= %i, MAD(X)= %i\" %(median(X), median(temp)))\n",
    "\n",
    "MAD(X)\n"
   ]
  },
  {
   "cell_type": "code",
   "execution_count": null,
   "metadata": {
    "collapsed": true
   },
   "outputs": [],
   "source": []
  }
 ],
 "metadata": {
  "kernelspec": {
   "display_name": "Python 3",
   "language": "python",
   "name": "python3"
  },
  "language_info": {
   "codemirror_mode": {
    "name": "ipython",
    "version": 3
   },
   "file_extension": ".py",
   "mimetype": "text/x-python",
   "name": "python",
   "nbconvert_exporter": "python",
   "pygments_lexer": "ipython3",
   "version": "3.6.1"
  }
 },
 "nbformat": 4,
 "nbformat_minor": 2
}
